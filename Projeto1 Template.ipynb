{
 "cells": [
  {
   "cell_type": "markdown",
   "metadata": {},
   "source": [
    "# Projeto 1 - Ciência dos Dados"
   ]
  },
  {
   "cell_type": "markdown",
   "metadata": {},
   "source": [
    "Nome: Enzo Davi\n",
    "\n",
    "Nome: Antonio Anderson\n",
    "\n",
    "Nome: Felipe Leventhal"
   ]
  },
  {
   "cell_type": "markdown",
   "metadata": {},
   "source": [
    "Atenção: Serão permitidos grupos de três pessoas, mas com uma rubrica mais exigente. Grupos deste tamanho precisarão fazer um questionário de avaliação de trabalho em equipe"
   ]
  },
  {
   "cell_type": "markdown",
   "metadata": {},
   "source": [
    "___\n",
    "Carregando algumas bibliotecas:"
   ]
  },
  {
   "cell_type": "code",
   "execution_count": 2,
   "metadata": {},
   "outputs": [],
   "source": [
    "%matplotlib inline\n",
    "import pandas as pd\n",
    "import matplotlib.pyplot as plt\n",
    "import numpy as np\n",
    "import os\n",
    "import re\n",
    "import unidecode\n",
    "import nltk\n",
    "from nltk import SnowballStemmer\n",
    "from nltk.corpus import stopwords\n",
    "from sklearn.model_selection import train_test_split"
   ]
  },
  {
   "cell_type": "code",
   "execution_count": 3,
   "metadata": {},
   "outputs": [
    {
     "name": "stdout",
     "output_type": "stream",
     "text": [
      "Esperamos trabalhar no diretório\n",
      "C:\\Users\\enzod\\Downloads\\CDADOS\\PROJETO 1\n"
     ]
    }
   ],
   "source": [
    "print('Esperamos trabalhar no diretório')\n",
    "print(os.getcwd())"
   ]
  },
  {
   "cell_type": "markdown",
   "metadata": {},
   "source": [
    "Carregando a base de dados com os tweets classificados manualmente:"
   ]
  },
  {
   "cell_type": "code",
   "execution_count": 4,
   "metadata": {},
   "outputs": [],
   "source": [
    "train = pd.read_excel('dados_treino1.xlsx')"
   ]
  },
  {
   "cell_type": "code",
   "execution_count": 5,
   "metadata": {},
   "outputs": [],
   "source": [
    "test = pd.read_excel('dados_teste1.xlsx')"
   ]
  },
  {
   "cell_type": "markdown",
   "metadata": {},
   "source": [
    "___\n",
    "## Classificador automático\n"
   ]
  },
  {
   "cell_type": "markdown",
   "metadata": {},
   "source": [
    "Nosso modelo estuda uma base de dados que contém críticas a livros presentes na plataforma da Amazon. Sendo assim, nossa classificação tem como base 4 grupos: \n",
    "* Grupo 1: Comentários voltados para o conteúdo do livro.\n",
    "* Grupo 2: Comentários do livro que contenham sentimento.\n",
    "* Grupo 3: Comentários que envolvem a *Amazon* do livro.\n",
    "* Grupo 4: Comentários que envolvem a *Editora* do livro."
   ]
  },
  {
   "cell_type": "code",
   "execution_count": 6,
   "metadata": {},
   "outputs": [
    {
     "data": {
      "text/html": [
       "<div>\n",
       "<style scoped>\n",
       "    .dataframe tbody tr th:only-of-type {\n",
       "        vertical-align: middle;\n",
       "    }\n",
       "\n",
       "    .dataframe tbody tr th {\n",
       "        vertical-align: top;\n",
       "    }\n",
       "\n",
       "    .dataframe thead th {\n",
       "        text-align: right;\n",
       "    }\n",
       "</style>\n",
       "<table border=\"1\" class=\"dataframe\">\n",
       "  <thead>\n",
       "    <tr style=\"text-align: right;\">\n",
       "      <th></th>\n",
       "      <th>Mensagem</th>\n",
       "      <th>TARGET</th>\n",
       "    </tr>\n",
       "  </thead>\n",
       "  <tbody>\n",
       "    <tr>\n",
       "      <th>0</th>\n",
       "      <td>A caixa do box veio rasgada e amaçada; página ...</td>\n",
       "      <td>3</td>\n",
       "    </tr>\n",
       "    <tr>\n",
       "      <th>1</th>\n",
       "      <td>A caixa veio estragada, queria deixar ela a mo...</td>\n",
       "      <td>3</td>\n",
       "    </tr>\n",
       "    <tr>\n",
       "      <th>2</th>\n",
       "      <td>A caixa veio rasgada e os livros parecem usados</td>\n",
       "      <td>3</td>\n",
       "    </tr>\n",
       "  </tbody>\n",
       "</table>\n",
       "</div>"
      ],
      "text/plain": [
       "                                            Mensagem  TARGET\n",
       "0  A caixa do box veio rasgada e amaçada; página ...       3\n",
       "1  A caixa veio estragada, queria deixar ela a mo...       3\n",
       "2    A caixa veio rasgada e os livros parecem usados       3"
      ]
     },
     "execution_count": 6,
     "metadata": {},
     "output_type": "execute_result"
    }
   ],
   "source": [
    "train.head(3)"
   ]
  },
  {
   "cell_type": "code",
   "execution_count": 7,
   "metadata": {},
   "outputs": [
    {
     "data": {
      "text/html": [
       "<div>\n",
       "<style scoped>\n",
       "    .dataframe tbody tr th:only-of-type {\n",
       "        vertical-align: middle;\n",
       "    }\n",
       "\n",
       "    .dataframe tbody tr th {\n",
       "        vertical-align: top;\n",
       "    }\n",
       "\n",
       "    .dataframe thead th {\n",
       "        text-align: right;\n",
       "    }\n",
       "</style>\n",
       "<table border=\"1\" class=\"dataframe\">\n",
       "  <thead>\n",
       "    <tr style=\"text-align: right;\">\n",
       "      <th></th>\n",
       "      <th>Mensagem</th>\n",
       "      <th>TARGET</th>\n",
       "    </tr>\n",
       "  </thead>\n",
       "  <tbody>\n",
       "    <tr>\n",
       "      <th>0</th>\n",
       "      <td>A história em si é boa, mas é bem cansativa. T...</td>\n",
       "      <td>1</td>\n",
       "    </tr>\n",
       "    <tr>\n",
       "      <th>1</th>\n",
       "      <td>Muito difícil a leitura deste livro, acredito ...</td>\n",
       "      <td>1</td>\n",
       "    </tr>\n",
       "    <tr>\n",
       "      <th>2</th>\n",
       "      <td>Poemas curtos e muito rasos. Pensei que encont...</td>\n",
       "      <td>1</td>\n",
       "    </tr>\n",
       "  </tbody>\n",
       "</table>\n",
       "</div>"
      ],
      "text/plain": [
       "                                            Mensagem  TARGET\n",
       "0  A história em si é boa, mas é bem cansativa. T...       1\n",
       "1  Muito difícil a leitura deste livro, acredito ...       1\n",
       "2  Poemas curtos e muito rasos. Pensei que encont...       1"
      ]
     },
     "execution_count": 7,
     "metadata": {},
     "output_type": "execute_result"
    }
   ],
   "source": [
    "test.head(3)"
   ]
  },
  {
   "cell_type": "code",
   "execution_count": 8,
   "metadata": {},
   "outputs": [
    {
     "data": {
      "text/plain": [
       "1     99\n",
       "2    204\n",
       "3    118\n",
       "4     79\n",
       "Name: TARGET, dtype: int64"
      ]
     },
     "execution_count": 8,
     "metadata": {},
     "output_type": "execute_result"
    }
   ],
   "source": [
    "train.TARGET.value_counts().sort_index()"
   ]
  },
  {
   "cell_type": "code",
   "execution_count": 9,
   "metadata": {},
   "outputs": [
    {
     "data": {
      "text/plain": [
       "1     50\n",
       "2    115\n",
       "3     62\n",
       "4     23\n",
       "Name: TARGET, dtype: int64"
      ]
     },
     "execution_count": 9,
     "metadata": {},
     "output_type": "execute_result"
    }
   ],
   "source": [
    "test.TARGET.value_counts().sort_index()"
   ]
  },
  {
   "cell_type": "markdown",
   "metadata": {},
   "source": [
    "# Preparando os dados:\n",
    "\n",
    "Antes de partimos para a classificação, é necessário um tratamento dos dados para um melhor aproveitamento e facilitação das etapas futuras."
   ]
  },
  {
   "cell_type": "markdown",
   "metadata": {},
   "source": [
    "## Limpeza dos dados"
   ]
  },
  {
   "cell_type": "code",
   "execution_count": 10,
   "metadata": {},
   "outputs": [],
   "source": [
    "def cleanup(text):\n",
    "    \n",
    "    #Remove as pontuações\n",
    "    pontuacao = '[´\"!-.:1234567890?;$/'']' \n",
    "    pattern = re.compile(pontuacao)\n",
    "    texto_limpo = re.sub(pattern, '', text)\n",
    "    \n",
    "    #Remove acentos\n",
    "    texto_limpo = unidecode.unidecode(texto_limpo)\n",
    "    return texto_limpo        "
   ]
  },
  {
   "cell_type": "code",
   "execution_count": 11,
   "metadata": {},
   "outputs": [],
   "source": [
    "def tokenize(texto):\n",
    "    # Deixa todas as letras minúsculas\n",
    "    texto = texto.lower()\n",
    "    palavras = texto.split()\n",
    "\n",
    "    # Crie uma lista para armazenar os bigramas\n",
    "    bigramas = []\n",
    "\n",
    "    # Use um loop para criar bigramas a partir da lista de palavras\n",
    "    for i in range(len(palavras) - 1):\n",
    "        bigrama = palavras[i] + \" \" + palavras[i + 1]\n",
    "        bigramas.append(bigrama)\n",
    "\n",
    "    return bigramas\n"
   ]
  },
  {
   "cell_type": "code",
   "execution_count": 12,
   "metadata": {},
   "outputs": [
    {
     "name": "stderr",
     "output_type": "stream",
     "text": [
      "[nltk_data] Downloading package stopwords to\n",
      "[nltk_data]     C:\\Users\\enzod\\AppData\\Roaming\\nltk_data...\n",
      "[nltk_data]   Package stopwords is already up-to-date!\n"
     ]
    }
   ],
   "source": [
    "nltk.download('stopwords')\n",
    "stop_words = nltk.corpus.stopwords.words('portuguese')\n",
    "stop_words.append('')\n",
    "stop_words = list(stop_words)"
   ]
  },
  {
   "cell_type": "code",
   "execution_count": 13,
   "metadata": {},
   "outputs": [],
   "source": [
    "#Retira as palavras que são irrelevantes (Não contém informações)\n",
    "def stop_word(lista_texto):   \n",
    "    new_list = list()\n",
    "    for palavra in lista_texto:\n",
    "        if palavra not in stop_words:\n",
    "            new_list.append(palavra)\n",
    "\n",
    "    return new_list"
   ]
  },
  {
   "cell_type": "code",
   "execution_count": 14,
   "metadata": {},
   "outputs": [],
   "source": [
    "#Absorve apenas a raiz de cada palavra \n",
    "def stemming(lista_texto):\n",
    "    stemmer = SnowballStemmer('portuguese')\n",
    "    new_list = list()\n",
    "    for palavra in lista_texto:\n",
    "        new_list.append(stemmer.stem(palavra))\n",
    "    \n",
    "    return new_list"
   ]
  },
  {
   "cell_type": "code",
   "execution_count": 15,
   "metadata": {},
   "outputs": [],
   "source": [
    "#Transforma o df em string\n",
    "def to_text(data):\n",
    "    texto = ''\n",
    "    for frase in data.Mensagem:\n",
    "        texto += frase + \" \" \n",
    "    return texto"
   ]
  },
  {
   "cell_type": "code",
   "execution_count": 16,
   "metadata": {},
   "outputs": [],
   "source": [
    "# Roda todas as funções de limpeza para um df\n",
    "def run(texto):\n",
    "    texto = to_text(texto)\n",
    "    texto = cleanup(texto)\n",
    "    texto = tokenize(texto)\n",
    "    texto = stop_word(texto)\n",
    "    texto = stemming(texto)\n",
    "    series_texto = pd.Series(texto, dtype='object')\n",
    "    return series_texto"
   ]
  },
  {
   "cell_type": "code",
   "execution_count": 17,
   "metadata": {},
   "outputs": [],
   "source": [
    "# Roda todas as funções de limpeza para uma string\n",
    "def run2(texto):\n",
    "    texto = cleanup(texto)\n",
    "    texto = tokenize(texto)\n",
    "    texto = stop_word(texto)\n",
    "    texto = stemming(texto)\n",
    "    series_texto = pd.Series(texto, dtype='object')\n",
    "    return series_texto"
   ]
  },
  {
   "cell_type": "markdown",
   "metadata": {},
   "source": [
    "## Classificando os grupos:\n",
    "\n",
    "\n",
    "* Primeiro, o modelo precisa ser treinado usando um conjunto de dados rotulados. No nosso caso, o conjunto de dados consiste em críticas de livros agrupadas em quatro categorias: Grupo 1, Grupo 2, Grupo 3 e Grupo 4.\n"
   ]
  },
  {
   "cell_type": "code",
   "execution_count": 18,
   "metadata": {
    "scrolled": false
   },
   "outputs": [],
   "source": [
    "Grupo1 = train.loc[train.TARGET == 1, :]\n",
    "\n",
    "Grupo2 = train.loc[train.TARGET == 2, :]\n",
    "\n",
    "Grupo3 = train.loc[train.TARGET == 3, :]\n",
    "\n",
    "Grupo4 = train.loc[train.TARGET == 4, :]"
   ]
  },
  {
   "cell_type": "code",
   "execution_count": 19,
   "metadata": {
    "scrolled": true
   },
   "outputs": [],
   "source": [
    "#Frequência relativa de cada Grupo\n",
    "tabela_relativa_Grupo1 = run(Grupo1).value_counts(True)\n",
    "tabela_relativa_Grupo2 = run(Grupo2).value_counts(True)\n",
    "tabela_relativa_Grupo3 = run(Grupo3).value_counts(True)\n",
    "tabela_relativa_Grupo4 = run(Grupo4).value_counts(True)"
   ]
  },
  {
   "cell_type": "code",
   "execution_count": 20,
   "metadata": {
    "scrolled": true
   },
   "outputs": [],
   "source": [
    "#Frequência absoluta de cada Grupo\n",
    "tabela_absoluta_Grupo1 = run(Grupo1).value_counts()\n",
    "tabela_absoluta_Grupo2 = run(Grupo2).value_counts()\n",
    "tabela_absoluta_Grupo3 = run(Grupo3).value_counts()\n",
    "tabela_absoluta_Grupo4 = run(Grupo4).value_counts()"
   ]
  },
  {
   "cell_type": "code",
   "execution_count": 21,
   "metadata": {
    "scrolled": false
   },
   "outputs": [],
   "source": [
    "#Frequências da base de treino\n",
    "tabela_train = run(train)\n",
    "tabela_train_relativa = tabela_train.value_counts(True)\n",
    "tabela_train_absoluta = tabela_train.value_counts()"
   ]
  },
  {
   "cell_type": "code",
   "execution_count": 22,
   "metadata": {},
   "outputs": [],
   "source": [
    "#Treino sem repetição de palavras\n",
    "tabela_train_sem_repetir = set(tabela_train)"
   ]
  },
  {
   "cell_type": "markdown",
   "metadata": {},
   "source": [
    "* Probabilidades a Priori (Prior Probability): Para cada grupo (1, 2, 3 e 4), calculamos a probabilidade a priori, ou seja, a probabilidade de um comentário pertencer a cada um desses grupos. Isso é feito contando quantos comentários existem em cada grupo e dividindo pelo total de comentários.\n",
    "\n",
    "$$P(Grupo1) = \\frac{Número De Palavras Grupo1}{Número De Palavras Totais}$$\n",
    "\n",
    "O processo é análogo para os outros grupos.\n",
    "\n",
    "\n",
    "$$P(Grupo2) = \\frac{Número De Palavras Grupo2}{Número De Palavras Totais}$$\n",
    "\n",
    "$$P(Grupo3) = \\frac{Numero De Palavras Grupo3}{Numero De Palavras Totais}$$\n",
    "\n",
    "$$P(Grupo4) = \\frac{Número De Palavras Grupo4}{Número De Palavras Totais}$$"
   ]
  },
  {
   "cell_type": "code",
   "execution_count": 49,
   "metadata": {},
   "outputs": [],
   "source": [
    "probG1 = tabela_absoluta_Grupo1.sum()/tabela_train_absoluta.sum()\n",
    "probG2 = tabela_absoluta_Grupo2.sum()/tabela_train_absoluta.sum()\n",
    "probG3 = tabela_absoluta_Grupo3.sum()/tabela_train_absoluta.sum()\n",
    "probG4 = tabela_absoluta_Grupo4.sum()/tabela_train_absoluta.sum()"
   ]
  },
  {
   "cell_type": "markdown",
   "metadata": {},
   "source": [
    "* Probabilidades Condicionais (Likelihood): Para cada palavra (característica) no conjunto de dados, calculamos a probabilidade condicional de a palavra aparecer em um comentário de cada grupo. Essas probabilidades condicionais são calculadas separadamente para cada grupo.\n",
    "\n",
    "$$P(Palavra|Grupo1) = \\frac{P(Grupo1|Palavra) P(Palavra)}{P(Grupo1)}$$\n",
    "\n",
    "O processo é análogo para os outros grupos.\n",
    "\n",
    " $$P(Palavra|Grupo2) = \\frac{P(Grupo2|Palavra) P(Palavra)}{P(Grupo2)}$$\n",
    "\n",
    "\n",
    " $$P(Palavra|Grupo3) = \\frac{P(Grupo3|Palavra) P(Palavra)}{P(Grupo3)}$$\n",
    " \n",
    "\n",
    " $$P(Palavra|Grupo4) = \\frac{P(Grupo4|Palavra) P(Palavra)}{P(Grupo4)}$$\n",
    " \n",
    "* Probabilidade a Posteriori (Posterior Probability): Usando o teorema de Bayes, combinamos as probabilidades a priori e as probabilidades condicionais para calcular a probabilidade a posteriori de o novo comentário pertencer a cada um dos quatro grupos.\n",
    "\n",
    "Por exemplo, para um novo comentário, podemos calcular a probabilidade a posteriori de pertencer ao Grupo 1, ao Grupo 2, ao Grupo 3 e ao Grupo 4."
   ]
  },
  {
   "cell_type": "code",
   "execution_count": 34,
   "metadata": {},
   "outputs": [],
   "source": [
    "def calcula_prob(frase ,tabela_absoluta, tabela_train_sem_repetir, probG, alpha=0.05):\n",
    "    \n",
    "    prob_condicional = 1\n",
    "    for palavra in frase:\n",
    "        if palavra in tabela_absoluta:    \n",
    "            #Suavização de Laplace\n",
    "            p = (tabela_absoluta[palavra] + alpha)/ (tabela_absoluta.sum() + len(tabela_train_sem_repetir) * alpha) \n",
    "            prob_condicional *= p * probG\n",
    "            \n",
    "        else:\n",
    "            #Suavização de Laplace\n",
    "            q =(0 + alpha)/ (tabela_absoluta.sum() + len(tabela_train_sem_repetir) * alpha)\n",
    "            prob_condicional *= q * probG\n",
    "            \n",
    "    return prob_condicional"
   ]
  },
  {
   "cell_type": "markdown",
   "metadata": {},
   "source": [
    "\n",
    "### 2. Classificação de Novos Comentários:\n",
    "Depois que o modelo é treinado, ele pode ser usado para classificar novos comentários em uma das quatro categorias com base nas probabilidades calculadas.\n",
    "\n",
    "\n",
    "* Classificação: Finalmente, classificamos o novo comentário no grupo com a maior probabilidade a posteriori. O grupo com a probabilidade mais alta é considerado a categoria prevista para o comentário.\n",
    "\n",
    "Por exemplo, se a probabilidade a posteriori mais alta for a do Grupo 2, o novo comentário seria classificado como pertencente ao Grupo 2, indicando que ele contém sentimentos relacionados ao livro"
   ]
  },
  {
   "cell_type": "code",
   "execution_count": 35,
   "metadata": {},
   "outputs": [],
   "source": [
    "def classificador_de_frases(data):\n",
    "    \n",
    "    resultado = []\n",
    "\n",
    "    for frase in data.Mensagem:\n",
    "        \n",
    "        frase = run2(frase) # Aplica a função run2 que limpa a frase\n",
    "\n",
    "        aux = []\n",
    "        probFrase_dado_G1 = 1 \n",
    "        probFrase_dado_G2 = 1\n",
    "        probFrase_dado_G3 = 1\n",
    "        probFrase_dado_G4 = 1\n",
    "        \n",
    "        #Calculamos a probabilidade posteriori de cada frase para cada target\n",
    "        probFrase_dado_G1 = calcula_prob(frase,tabela_absoluta_Grupo1,tabela_train_sem_repetir , probG1)\n",
    "        probFrase_dado_G2 = calcula_prob(frase, tabela_absoluta_Grupo2,tabela_train_sem_repetir, probG2)\n",
    "        probFrase_dado_G3 = calcula_prob(frase, tabela_absoluta_Grupo3, tabela_train_sem_repetir, probG3)\n",
    "        probFrase_dado_G4 = calcula_prob(frase, tabela_absoluta_Grupo4,tabela_train_sem_repetir,  probG4) \n",
    "        \n",
    "        #Verificamos o maior termo e adicionamos seu respectivo valor semântico na lista\n",
    "        aux.append(probFrase_dado_G1)\n",
    "        aux.append(probFrase_dado_G2)\n",
    "        aux.append(probFrase_dado_G3)\n",
    "        aux.append(probFrase_dado_G4)\n",
    "        aux = sorted(aux, reverse=True)\n",
    "        \n",
    "        if aux[0] == probFrase_dado_G1:\n",
    "            resultado.append(1)\n",
    "        elif aux[0] == probFrase_dado_G3:\n",
    "            resultado.append(3)\n",
    "        elif aux[0] == probFrase_dado_G2:\n",
    "            resultado.append(2)\n",
    "        else:\n",
    "            resultado.append(4)\n",
    "            \n",
    "        \n",
    "    return resultado"
   ]
  },
  {
   "cell_type": "markdown",
   "metadata": {},
   "source": [
    "___\n",
    "## Verificando a performance do Classificador\n"
   ]
  },
  {
   "cell_type": "code",
   "execution_count": 36,
   "metadata": {},
   "outputs": [],
   "source": [
    "lista_teste = classificador_de_frases(test)"
   ]
  },
  {
   "cell_type": "code",
   "execution_count": 40,
   "metadata": {
    "scrolled": false
   },
   "outputs": [
    {
     "data": {
      "text/html": [
       "<div>\n",
       "<style scoped>\n",
       "    .dataframe tbody tr th:only-of-type {\n",
       "        vertical-align: middle;\n",
       "    }\n",
       "\n",
       "    .dataframe tbody tr th {\n",
       "        vertical-align: top;\n",
       "    }\n",
       "\n",
       "    .dataframe thead th {\n",
       "        text-align: right;\n",
       "    }\n",
       "</style>\n",
       "<table border=\"1\" class=\"dataframe\">\n",
       "  <thead>\n",
       "    <tr style=\"text-align: right;\">\n",
       "      <th>Bot</th>\n",
       "      <th>1</th>\n",
       "      <th>2</th>\n",
       "      <th>3</th>\n",
       "      <th>4</th>\n",
       "    </tr>\n",
       "    <tr>\n",
       "      <th>TARGET</th>\n",
       "      <th></th>\n",
       "      <th></th>\n",
       "      <th></th>\n",
       "      <th></th>\n",
       "    </tr>\n",
       "  </thead>\n",
       "  <tbody>\n",
       "    <tr>\n",
       "      <th>1</th>\n",
       "      <td>43</td>\n",
       "      <td>7</td>\n",
       "      <td>0</td>\n",
       "      <td>0</td>\n",
       "    </tr>\n",
       "    <tr>\n",
       "      <th>2</th>\n",
       "      <td>64</td>\n",
       "      <td>48</td>\n",
       "      <td>2</td>\n",
       "      <td>1</td>\n",
       "    </tr>\n",
       "    <tr>\n",
       "      <th>3</th>\n",
       "      <td>18</td>\n",
       "      <td>2</td>\n",
       "      <td>37</td>\n",
       "      <td>5</td>\n",
       "    </tr>\n",
       "    <tr>\n",
       "      <th>4</th>\n",
       "      <td>11</td>\n",
       "      <td>4</td>\n",
       "      <td>2</td>\n",
       "      <td>6</td>\n",
       "    </tr>\n",
       "  </tbody>\n",
       "</table>\n",
       "</div>"
      ],
      "text/plain": [
       "Bot      1   2   3  4\n",
       "TARGET               \n",
       "1       43   7   0  0\n",
       "2       64  48   2  1\n",
       "3       18   2  37  5\n",
       "4       11   4   2  6"
      ]
     },
     "execution_count": 40,
     "metadata": {},
     "output_type": "execute_result"
    }
   ],
   "source": [
    "test['Bot'] = lista_teste\n",
    "verificacao = (pd.crosstab(test.TARGET, test.Bot).round(4))\n",
    "verificacao"
   ]
  },
  {
   "cell_type": "code",
   "execution_count": 41,
   "metadata": {},
   "outputs": [
    {
     "data": {
      "text/plain": [
       "53.6"
      ]
     },
     "execution_count": 41,
     "metadata": {},
     "output_type": "execute_result"
    }
   ],
   "source": [
    "accuracy = (verificacao[1][1] + verificacao[2][2]+ verificacao[3][3] + verificacao[4][4])/2.5\n",
    "accuracy"
   ]
  },
  {
   "cell_type": "code",
   "execution_count": 42,
   "metadata": {
    "scrolled": true
   },
   "outputs": [
    {
     "data": {
      "text/html": [
       "<div>\n",
       "<style scoped>\n",
       "    .dataframe tbody tr th:only-of-type {\n",
       "        vertical-align: middle;\n",
       "    }\n",
       "\n",
       "    .dataframe tbody tr th {\n",
       "        vertical-align: top;\n",
       "    }\n",
       "\n",
       "    .dataframe thead th {\n",
       "        text-align: right;\n",
       "    }\n",
       "</style>\n",
       "<table border=\"1\" class=\"dataframe\">\n",
       "  <thead>\n",
       "    <tr style=\"text-align: right;\">\n",
       "      <th>Bot</th>\n",
       "      <th>1</th>\n",
       "      <th>2</th>\n",
       "      <th>3</th>\n",
       "      <th>4</th>\n",
       "    </tr>\n",
       "    <tr>\n",
       "      <th>TARGET</th>\n",
       "      <th></th>\n",
       "      <th></th>\n",
       "      <th></th>\n",
       "      <th></th>\n",
       "    </tr>\n",
       "  </thead>\n",
       "  <tbody>\n",
       "    <tr>\n",
       "      <th>1</th>\n",
       "      <td>86.00</td>\n",
       "      <td>14.00</td>\n",
       "      <td>0.00</td>\n",
       "      <td>0.00</td>\n",
       "    </tr>\n",
       "    <tr>\n",
       "      <th>2</th>\n",
       "      <td>55.65</td>\n",
       "      <td>41.74</td>\n",
       "      <td>1.74</td>\n",
       "      <td>0.87</td>\n",
       "    </tr>\n",
       "    <tr>\n",
       "      <th>3</th>\n",
       "      <td>29.03</td>\n",
       "      <td>3.23</td>\n",
       "      <td>59.68</td>\n",
       "      <td>8.06</td>\n",
       "    </tr>\n",
       "    <tr>\n",
       "      <th>4</th>\n",
       "      <td>47.83</td>\n",
       "      <td>17.39</td>\n",
       "      <td>8.70</td>\n",
       "      <td>26.09</td>\n",
       "    </tr>\n",
       "  </tbody>\n",
       "</table>\n",
       "</div>"
      ],
      "text/plain": [
       "Bot         1      2      3      4\n",
       "TARGET                            \n",
       "1       86.00  14.00   0.00   0.00\n",
       "2       55.65  41.74   1.74   0.87\n",
       "3       29.03   3.23  59.68   8.06\n",
       "4       47.83  17.39   8.70  26.09"
      ]
     },
     "execution_count": 42,
     "metadata": {},
     "output_type": "execute_result"
    }
   ],
   "source": [
    "verificacao = (pd.crosstab(test.TARGET, test.Bot, normalize='index').round(4))*100\n",
    "verificacao"
   ]
  },
  {
   "cell_type": "markdown",
   "metadata": {},
   "source": [
    "### Conclusão \n",
    "\n",
    "#### A partir das informações obtidas, é possível inferir que:\n",
    "\n",
    "O nosso classificador obteve 53,6% de acurácia, isto é, ele classifica 53,6% dos comentários corretamente. \n",
    "Também podemos observar que:\n",
    "\n",
    "- Obtemos 86.00% de verdadeiros 1, isto é, 14,00% dos comentários classificados como Grupo 1 foram classificados erroneamente (falsos 1).\n",
    "- Obtemos 44,35% de verdadeiros 2, isto é, 55,65% dos comentários classificados como Grupo 2 foram classificados erroneamente (falsos 2).\n",
    "- Obtemos 59,68% de verdadeiros 3, isto é, 40,32% dos comentários classificados como Grupo 3 foram classificados erroneamente (falsos 3).\n",
    "- Obtemos 43,48% de verdadeiros 4, isto é, 73,94% dos comentários classificados como Grupo 4 foram classificados erroneamente (falsos 4)."
   ]
  },
  {
   "cell_type": "markdown",
   "metadata": {},
   "source": [
    "#### Por quê não usar o próprio classificador para gerar mais amostras de treinamento?\n",
    "\n",
    "\n",
    "O classificador automático, como podemos notar, constrói uma interpretação dos dados com base nas restrições dos indicadores que emprega para categorizar as avaliações. Portanto, se o utilizássemos para categorizar e posteriormente para treinar o modelo, estaríamos essencialmente permitindo que o código se baseasse em sua própria interpretação, que já é limitada, o que poderia resultar em um reforço das suas próprias deficiências. Isso, por sua vez, levaria a uma análise mais tendenciosa em vez de uma análise mais precisa."
   ]
  },
  {
   "cell_type": "markdown",
   "metadata": {},
   "source": [
    "#### Diferentes cenários para o Naive Bayes:\n",
    "\n",
    "* O classificador poderia classificar letras de músicas do Spotify, subdividindo a música em diferentes gêneros musicais, como: Músicas Românticas, Músicas Relaxantes, etc.\n",
    "\n",
    "\n",
    "* Além disso, o Naive-Bayes poderia ser utilizado para gerar uma análise de sentimento de postagens nas redes socias, como (positivo, negativo, neutro).\n",
    "\n",
    "\n",
    "* O Naive-Bayes também pode ser utilizado em sistemas de recomendação de uma empresa de serviços de streaming, como o Amazon Prime, onde o classificador poderá recomendar ao usuário o filme que ele deveria assisir de acordo com seus gostos pessoais. "
   ]
  },
  {
   "cell_type": "markdown",
   "metadata": {},
   "source": [
    "#### Possíveis melhorias para o classificador:\n",
    "\n",
    "* Uma possível melhoria para o modelo, seria analisarmos a entropia presente em cada análise de probabilidade. Isso permitiria desconsiderar casos em que a entropia entre as probabilidades é alta, ou seja, as probabilidades são bem próximas, e isso prejudica a assertividade do classificador.\n",
    "\n",
    "\n",
    "* Outra maneira de melhorar a qualidade do classificador, seria aumentar o tamanho da base de dados. Sendo assim, esse aumento amplia a zona de assertividade do modelo.\n"
   ]
  },
  {
   "cell_type": "markdown",
   "metadata": {},
   "source": [
    "#### Sarcasmo em Naive Bayes:"
   ]
  },
  {
   "cell_type": "code",
   "execution_count": 51,
   "metadata": {},
   "outputs": [
    {
     "name": "stdout",
     "output_type": "stream",
     "text": [
      "A frase pertence ao Grupo 1\n"
     ]
    }
   ],
   "source": [
    "frase = '\"Ah, sim, esse livro é uma obra-prima da literatura... se você considerar uma obra-prima a capacidade de transformar o sono em uma experiência mágica!\"'\n",
    "frase = run2(frase) \n",
    "aux = []\n",
    "probFrase_dado_G1 = 1 \n",
    "probFrase_dado_G2 = 1\n",
    "probFrase_dado_G3 = 1\n",
    "probFrase_dado_G4 = 1\n",
    "\n",
    "#Calculamos a probabilidade posteriori de cada frase para cada target\n",
    "probFrase_dado_G1 = calcula_prob(frase,tabela_absoluta_Grupo1,tabela_train_sem_repetir , probG1)\n",
    "probFrase_dado_G2 = calcula_prob(frase, tabela_absoluta_Grupo2,tabela_train_sem_repetir, probG2)\n",
    "probFrase_dado_G3 = calcula_prob(frase, tabela_absoluta_Grupo3, tabela_train_sem_repetir, probG3)\n",
    "probFrase_dado_G4 = calcula_prob(frase, tabela_absoluta_Grupo4,tabela_train_sem_repetir,  probG4) \n",
    "\n",
    "#Verificamos o maior termo e adicionamos seu respectivo valor semântico na lista\n",
    "aux.append(probFrase_dado_G1)\n",
    "aux.append(probFrase_dado_G2)\n",
    "aux.append(probFrase_dado_G3)\n",
    "aux.append(probFrase_dado_G4)\n",
    "aux = sorted(aux, reverse=True)\n",
    "\n",
    "if aux[0] == probFrase_dado_G1:\n",
    "    print('A frase pertence ao Grupo 1')\n",
    "elif aux[0] == probFrase_dado_G3:\n",
    "    print('A frase pertence ao Grupo 2')\n",
    "elif aux[0] == probFrase_dado_G2:\n",
    "    print('A frase pertence ao Grupo 3')\n",
    "else:\n",
    "    print('A frase pertence ao Grupo 4')"
   ]
  },
  {
   "cell_type": "markdown",
   "metadata": {},
   "source": [
    "A ingenuidade em Naive Bayes analisa as palavras de forma isolada, dessa forma Naive Bayes não leva em consideração o contexto \n",
    "no qual a palavra está inserida."
   ]
  },
  {
   "cell_type": "markdown",
   "metadata": {},
   "source": [
    "#### Dupla Negação:"
   ]
  },
  {
   "cell_type": "code",
   "execution_count": 52,
   "metadata": {},
   "outputs": [
    {
     "name": "stdout",
     "output_type": "stream",
     "text": [
      "A frase pertence ao Grupo 3\n"
     ]
    }
   ],
   "source": [
    "frase = 'Não gostei não desse atendimento da Amazon'\n",
    "frase = run2(frase) \n",
    "aux = []\n",
    "probFrase_dado_G1 = 1 \n",
    "probFrase_dado_G2 = 1\n",
    "probFrase_dado_G3 = 1\n",
    "probFrase_dado_G4 = 1\n",
    "\n",
    "#Calculamos a probabilidade posteriori de cada frase para cada target\n",
    "probFrase_dado_G1 = calcula_prob(frase,tabela_absoluta_Grupo1,tabela_train_sem_repetir , probG1)\n",
    "probFrase_dado_G2 = calcula_prob(frase, tabela_absoluta_Grupo2,tabela_train_sem_repetir, probG2)\n",
    "probFrase_dado_G3 = calcula_prob(frase, tabela_absoluta_Grupo3, tabela_train_sem_repetir, probG3)\n",
    "probFrase_dado_G4 = calcula_prob(frase, tabela_absoluta_Grupo4,tabela_train_sem_repetir,  probG4) \n",
    "\n",
    "#Verificamos o maior termo e adicionamos seu respectivo valor semântico na lista\n",
    "aux.append(probFrase_dado_G1)\n",
    "aux.append(probFrase_dado_G2)\n",
    "aux.append(probFrase_dado_G3)\n",
    "aux.append(probFrase_dado_G4)\n",
    "aux = sorted(aux, reverse=True)\n",
    "\n",
    "if aux[0] == probFrase_dado_G1:\n",
    "    print('A frase pertence ao Grupo 1')\n",
    "elif aux[0] == probFrase_dado_G3:\n",
    "    print('A frase pertence ao Grupo 2')\n",
    "elif aux[0] == probFrase_dado_G2:\n",
    "    print('A frase pertence ao Grupo 3')\n",
    "else:\n",
    "    print('A frase pertence ao Grupo 4')"
   ]
  },
  {
   "cell_type": "markdown",
   "metadata": {},
   "source": [
    "Da mesma forma do sarcasmo, Naive Bayes não consegue interpretar a dupla negação como algo positivo, pela motivo de analisar somente cada palavra individualmente."
   ]
  },
  {
   "cell_type": "markdown",
   "metadata": {},
   "source": [
    "___\n",
    "### Qualidade do Classificador a partir de novas separações dos tweets entre Treinamento e Teste"
   ]
  },
  {
   "cell_type": "code",
   "execution_count": null,
   "metadata": {},
   "outputs": [],
   "source": [
    "# Mescla os DataFrames em um único\n",
    "merged_df = pd.concat([train, test], ignore_index=True, axis=0)"
   ]
  },
  {
   "cell_type": "code",
   "execution_count": 43,
   "metadata": {
    "scrolled": true
   },
   "outputs": [],
   "source": [
    "#Calculamos as probabilidades para cada tabela\n",
    "def aux(train_shuffled):\n",
    "    \n",
    "    Grupo1_shuffled = train_shuffled.loc[train.TARGET == 1, :]\n",
    "    Grupo2_shuffled = train_shuffled.loc[train.TARGET == 2, :]\n",
    "    Grupo3_shuffled = train_shuffled.loc[train.TARGET == 3, :]\n",
    "    Grupo4_shuffled = train_shuffled.loc[train.TARGET == 4, :]\n",
    "\n",
    "    tabela_relativa_Grupo1_shuffled = run(Grupo1_shuffled).value_counts(True)\n",
    "    tabela_relativa_Grupo2_shuffled = run(Grupo2_shuffled).value_counts(True)\n",
    "    tabela_relativa_Grupo3_shuffled = run(Grupo3_shuffled).value_counts(True)\n",
    "    tabela_relativa_Grupo4_shuffled = run(Grupo4_shuffled).value_counts(True)\n",
    "\n",
    "    tabela_absoluta_Grupo1_shuffled = run(Grupo1_shuffled).value_counts()\n",
    "    tabela_absoluta_Grupo2_shuffled = run(Grupo2_shuffled).value_counts()\n",
    "    tabela_absoluta_Grupo3_shuffled = run(Grupo3_shuffled).value_counts()\n",
    "    tabela_absoluta_Grupo4_shuffled = run(Grupo4_shuffled).value_counts()\n",
    "\n",
    "    tabela_train_shuffled = run(train_shuffled)\n",
    "    tabela_train_relativa_shuffled = tabela_train_shuffled.value_counts(True)\n",
    "    tabela_train_absoluta_shuffled = tabela_train_shuffled.value_counts()\n",
    "\n",
    "    tabela_train_sem_repetir_shuffled = set(tabela_train_shuffled)\n",
    "    \n",
    "    probG1 = tabela_absoluta_Grupo1_shuffled.sum()/tabela_train_absoluta_shuffled.sum()\n",
    "    probG2 = tabela_absoluta_Grupo2_shuffled.sum()/tabela_train_absoluta_shuffled.sum()\n",
    "    probG3 = tabela_absoluta_Grupo3_shuffled.sum()/tabela_train_absoluta_shuffled.sum()\n",
    "    probG4 = tabela_absoluta_Grupo4_shuffled.sum()/tabela_train_absoluta_shuffled.sum()\n",
    "\n",
    "    return [tabela_train_sem_repetir_shuffled, tabela_absoluta_Grupo1_shuffled,tabela_absoluta_Grupo2_shuffled,tabela_absoluta_Grupo3_shuffled, tabela_absoluta_Grupo4_shuffled] , [probG1, probG2, probG3, probG4]"
   ]
  },
  {
   "cell_type": "code",
   "execution_count": 44,
   "metadata": {},
   "outputs": [],
   "source": [
    "def classificador_de_frases_shuffled(data):\n",
    "    \n",
    "    resultado = []\n",
    "\n",
    "    for frase in data.Mensagem:\n",
    "        \n",
    "        frase = run2(frase)# Aplica a função run2 que limpa a frase\n",
    "\n",
    "        aux = []\n",
    "        probFrase_dado_G1 = 1 \n",
    "        probFrase_dado_G2 = 1\n",
    "        probFrase_dado_G3 = 1\n",
    "        probFrase_dado_G4 = 1\n",
    "        \n",
    "        #Calculamos a probabilidade posteriori de cada frase para cada target\n",
    "        probFrase_dado_G1 = calcula_prob(frase, list_aux[1], list_aux[0], prob_grupos[0])\n",
    "        probFrase_dado_G2 = calcula_prob(frase, list_aux[2], list_aux[0], prob_grupos[1])\n",
    "        probFrase_dado_G3 = calcula_prob(frase, list_aux[3], list_aux[0], prob_grupos[2])\n",
    "        probFrase_dado_G4 = calcula_prob(frase, list_aux[4], list_aux[0], prob_grupos[3]) \n",
    "        \n",
    "        #Verificamos o maior termo e adicionamos seu respectivo valor semântico na lista\n",
    "        aux.append(probFrase_dado_G1)\n",
    "        aux.append(probFrase_dado_G2)\n",
    "        aux.append(probFrase_dado_G3)\n",
    "        aux.append(probFrase_dado_G4)\n",
    "        aux = sorted(aux, reverse=True)\n",
    "        \n",
    "        if aux[0] == probFrase_dado_G1:\n",
    "            resultado.append(1)\n",
    "        elif aux[0] == probFrase_dado_G3:\n",
    "            resultado.append(3)\n",
    "        elif aux[0] == probFrase_dado_G2:\n",
    "            resultado.append(2)\n",
    "        else:\n",
    "            resultado.append(4)\n",
    "            \n",
    "        \n",
    "    return resultado"
   ]
  },
  {
   "cell_type": "code",
   "execution_count": 45,
   "metadata": {
    "scrolled": false
   },
   "outputs": [
    {
     "data": {
      "text/plain": [
       "count    100.000000\n",
       "mean      44.812000\n",
       "std        3.094449\n",
       "min       36.800000\n",
       "25%       42.800000\n",
       "50%       44.400000\n",
       "75%       46.800000\n",
       "max       53.600000\n",
       "dtype: float64"
      ]
     },
     "execution_count": 45,
     "metadata": {},
     "output_type": "execute_result"
    }
   ],
   "source": [
    "list_accuracy = []\n",
    "for i in range (0,100):\n",
    "    \n",
    "    # Amostra aleatória para o conjunto de treinamento\n",
    "    train_shuffled =  merged_df.sample(frac = (500/750))\n",
    "    \n",
    "    # Conjunto de teste é o que sobra após o conjunto de treinamento\n",
    "    test_shuffled = merged_df.drop(train_shuffled.index)\n",
    "   \n",
    "    #Redefine os índices para ambos os conjuntos\n",
    "    train_shuffled.reset_index(drop=True, inplace=True)\n",
    "    test_shuffled.reset_index(drop=True, inplace=True)\n",
    "\n",
    "    #Cria as listas auxiliares que possuem os dados de cada tabela\n",
    "    list_aux, prob_grupos = aux(train_shuffled)\n",
    "        \n",
    "    #Aplica a função classificador\n",
    "    test_shuffled['Boot'] = classificador_de_frases_shuffled(test_shuffled)\n",
    "    verificador = (pd.crosstab(test_shuffled.TARGET, test_shuffled.Boot ))\n",
    "    \n",
    "    if 4 in verificador.columns:\n",
    "        accuracy100 = (verificador[1][1] + verificador[2][2]+ verificador[3][3] + verificador[4][4])/2.5\n",
    "        list_accuracy.append(accuracy100)\n",
    "    elif 3 in verificador.columns:\n",
    "        accuracy100 = (verificador[1][1] + verificador[2][2]+ verificador[3][3])/2.5\n",
    "        list_accuracy.append(accuracy100)\n",
    "    else:\n",
    "        accuracy100 =  (verificador[1][1] + verificador[2][2])/2.5\n",
    "        list_accuracy.append(accuracy100)\n",
    "        \n",
    "series_accuracy = pd.Series(list_accuracy)"
   ]
  },
  {
   "cell_type": "code",
   "execution_count": 46,
   "metadata": {
    "scrolled": false
   },
   "outputs": [
    {
     "data": {
      "image/png": "[encoded data removed]",
      "text/plain": [
       "<Figure size 1800x900 with 1 Axes>"
      ]
     },
     "metadata": {},
     "output_type": "display_data"
    }
   ],
   "source": [
    "plt.figure(figsize=(18, 9))\n",
    "\n",
    "plt.subplot(221) \n",
    "plt.hist(series_accuracy, edgecolor='white', density=True, bins= 7)\n",
    "plt.title(\"Acurácia Média\")\n",
    "plt.ylabel('Densidade')\n",
    "plt.xlabel('Acurácia em %')\n",
    "plt.show()"
   ]
  },
  {
   "cell_type": "code",
   "execution_count": 53,
   "metadata": {},
   "outputs": [
    {
     "data": {
      "text/plain": [
       "count    100.000000\n",
       "mean      44.812000\n",
       "std        3.094449\n",
       "min       36.800000\n",
       "25%       42.800000\n",
       "50%       44.400000\n",
       "75%       46.800000\n",
       "max       53.600000\n",
       "dtype: float64"
      ]
     },
     "execution_count": 53,
     "metadata": {},
     "output_type": "execute_result"
    }
   ],
   "source": [
    "series_accuracy.describe()"
   ]
  },
  {
   "cell_type": "markdown",
   "metadata": {},
   "source": [
    "___\n",
    "## Aperfeiçoamento:\n",
    "\n",
    "Trabalhos que conseguirem pelo menos conceito B vão evoluir em conceito dependendo da quantidade de itens avançados:\n",
    "\n",
    "* IMPLEMENTOU outras limpezas e transformações que não afetem a qualidade da informação contida nos tweets. Ex: stemming, lemmatization, stopwords [x]\n",
    "* CONSIDEROU mais de duas categorias na variável Target e INCREMENTOU a quantidade de notícias, mantendo pelo menos 250 notícias por categoria (OBRIGATÓRIO PARA TRIOS, sem contar como item avançado) [x]\n",
    "* Para Target com duas categorias: CRIOU pelo menos quatro categorias intermediárias de relevância baseadas na probabilidade: ex.: muito relevante, relevante, neutro, irrelevante, muito irrelevante [x]\n",
    "* EXPLICOU porquê não pode usar o próprio classificador para gerar mais amostras de treinamento [x]\n",
    "* PROPÔS diferentes cenários para Naïve Bayes fora do contexto do projeto (pelo menos dois cenários, exceto aqueles já apresentados em sala pelos professores: por exemplo, filtro de spam) [x]\n",
    "* SUGERIU e EXPLICOU melhorias reais com indicações concretas de como implementar (indicar como fazer e indicar material de pesquisa) [x]\n",
    "* FEZ o item Qualidade do Classificador a partir de novas separações das Notícias entre Treinamento e Teste descrito no enunciado do projeto (OBRIGATÓRIO para conceitos A ou A+) [x]"
   ]
  },
  {
   "cell_type": "markdown",
   "metadata": {},
   "source": [
    "___\n",
    "## Referências"
   ]
  },
  {
   "cell_type": "markdown",
   "metadata": {},
   "source": [
    "[Naive Bayes and Text Classification](https://arxiv.org/pdf/1410.5329.pdf)  **Mais completo**\n",
    "\n",
    "[A practical explanation of a Naive Bayes Classifier](https://monkeylearn.com/blog/practical-explanation-naive-bayes-classifier/) **Mais simples**\n",
    "\n",
    "https://blog.somostera.com/data-science/naive-bayes \n",
    "\n",
    "https://blog.somostera.com/data-science/naive-bayes\n",
    "\n",
    "https://medium.com/blog-do-zouza/o-dilema-dos-dados-enfrentando-a-entropia-do-crescimento-de-dados-f727cdcb6be1"
   ]
  }
 ],
 "metadata": {
  "kernelspec": {
   "display_name": "Python 3 (ipykernel)",
   "language": "python",
   "name": "python3"
  },
  "language_info": {
   "codemirror_mode": {
    "name": "ipython",
    "version": 3
   },
   "file_extension": ".py",
   "mimetype": "text/x-python",
   "name": "python",
   "nbconvert_exporter": "python",
   "pygments_lexer": "ipython3",
   "version": "3.9.13"
  }
 },
 "nbformat": 4,
 "nbformat_minor": 4
}
