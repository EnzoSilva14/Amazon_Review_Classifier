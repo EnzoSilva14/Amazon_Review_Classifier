{
 "cells": [
  {
   "cell_type": "markdown",
   "metadata": {},
   "source": [
    "# Projeto 1 - Ciência dos Dados"
   ]
  },
  {
   "cell_type": "markdown",
   "metadata": {},
   "source": [
    "Nome: Enzo Davi\n",
    "\n",
    "Nome: Antonio Anderson\n",
    "\n",
    "Nome: Felipe Leventhal"
   ]
  },
  {
   "cell_type": "markdown",
   "metadata": {},
   "source": [
    "Atenção: Serão permitidos grupos de três pessoas, mas com uma rubrica mais exigente. Grupos deste tamanho precisarão fazer um questionário de avaliação de trabalho em equipe"
   ]
  },
  {
   "cell_type": "markdown",
   "metadata": {},
   "source": [
    "___\n",
    "Carregando algumas bibliotecas:"
   ]
  },
  {
   "cell_type": "code",
   "execution_count": 47,
   "metadata": {},
   "outputs": [],
   "source": [
    "%matplotlib inline\n",
    "import pandas as pd\n",
    "import matplotlib.pyplot as plt\n",
    "import numpy as np\n",
    "import os\n",
    "import re\n",
    "import unidecode\n",
    "import nltk\n",
    "from nltk import SnowballStemmer\n",
    "from nltk.corpus import stopwords"
   ]
  },
  {
   "cell_type": "code",
   "execution_count": 48,
   "metadata": {
    "scrolled": false
   },
   "outputs": [
    {
     "name": "stdout",
     "output_type": "stream",
     "text": [
      "Esperamos trabalhar no diretório\n",
      "C:\\Users\\enzod\\Downloads\\CDADOS\\PROJETO 1\n"
     ]
    }
   ],
   "source": [
    "print('Esperamos trabalhar no diretório')\n",
    "print(os.getcwd())"
   ]
  },
  {
   "cell_type": "markdown",
   "metadata": {},
   "source": [
    "Carregando a base de dados com os tweets classificados manualmente:"
   ]
  },
  {
   "cell_type": "code",
   "execution_count": 49,
   "metadata": {},
   "outputs": [
    {
     "data": {
      "text/html": [
       "<div>\n",
       "<style scoped>\n",
       "    .dataframe tbody tr th:only-of-type {\n",
       "        vertical-align: middle;\n",
       "    }\n",
       "\n",
       "    .dataframe tbody tr th {\n",
       "        vertical-align: top;\n",
       "    }\n",
       "\n",
       "    .dataframe thead th {\n",
       "        text-align: right;\n",
       "    }\n",
       "</style>\n",
       "<table border=\"1\" class=\"dataframe\">\n",
       "  <thead>\n",
       "    <tr style=\"text-align: right;\">\n",
       "      <th></th>\n",
       "      <th>Mensagem</th>\n",
       "      <th>TARGET</th>\n",
       "    </tr>\n",
       "  </thead>\n",
       "  <tbody>\n",
       "    <tr>\n",
       "      <th>0</th>\n",
       "      <td>\"Terror\" muito enrolado e cheio de detalhes de...</td>\n",
       "      <td>2</td>\n",
       "    </tr>\n",
       "    <tr>\n",
       "      <th>1</th>\n",
       "      <td>+</td>\n",
       "      <td>4</td>\n",
       "    </tr>\n",
       "    <tr>\n",
       "      <th>2</th>\n",
       "      <td>Caixa-Harry-Potter-Edição-Premium-Exclusiva-Am...</td>\n",
       "      <td>3</td>\n",
       "    </tr>\n",
       "    <tr>\n",
       "      <th>3</th>\n",
       "      <td>A caixa do box veio rasgada e amaçada; página ...</td>\n",
       "      <td>1</td>\n",
       "    </tr>\n",
       "    <tr>\n",
       "      <th>4</th>\n",
       "      <td>A caixa veio estragada, queria deixar ela a mo...</td>\n",
       "      <td>1</td>\n",
       "    </tr>\n",
       "  </tbody>\n",
       "</table>\n",
       "</div>"
      ],
      "text/plain": [
       "                                            Mensagem  TARGET\n",
       "0  \"Terror\" muito enrolado e cheio de detalhes de...       2\n",
       "1                                                  +       4\n",
       "2  Caixa-Harry-Potter-Edição-Premium-Exclusiva-Am...       3\n",
       "3  A caixa do box veio rasgada e amaçada; página ...       1\n",
       "4  A caixa veio estragada, queria deixar ela a mo...       1"
      ]
     },
     "execution_count": 49,
     "metadata": {},
     "output_type": "execute_result"
    }
   ],
   "source": [
    "train = pd.read_excel('dados_treino1.xlsx')\n",
    "train.head(5)"
   ]
  },
  {
   "cell_type": "code",
   "execution_count": 50,
   "metadata": {
    "scrolled": true
   },
   "outputs": [
    {
     "data": {
      "text/html": [
       "<div>\n",
       "<style scoped>\n",
       "    .dataframe tbody tr th:only-of-type {\n",
       "        vertical-align: middle;\n",
       "    }\n",
       "\n",
       "    .dataframe tbody tr th {\n",
       "        vertical-align: top;\n",
       "    }\n",
       "\n",
       "    .dataframe thead th {\n",
       "        text-align: right;\n",
       "    }\n",
       "</style>\n",
       "<table border=\"1\" class=\"dataframe\">\n",
       "  <thead>\n",
       "    <tr style=\"text-align: right;\">\n",
       "      <th></th>\n",
       "      <th>Mensagem</th>\n",
       "      <th>TARGET</th>\n",
       "    </tr>\n",
       "  </thead>\n",
       "  <tbody>\n",
       "    <tr>\n",
       "      <th>0</th>\n",
       "      <td>A história em si é boa, mas é bem cansativa. T...</td>\n",
       "      <td>2</td>\n",
       "    </tr>\n",
       "    <tr>\n",
       "      <th>1</th>\n",
       "      <td>O livro fala de um contexto bastante interessa...</td>\n",
       "      <td>2</td>\n",
       "    </tr>\n",
       "    <tr>\n",
       "      <th>2</th>\n",
       "      <td>O livro é excelente no primeiro terço, porém, ...</td>\n",
       "      <td>2</td>\n",
       "    </tr>\n",
       "    <tr>\n",
       "      <th>3</th>\n",
       "      <td>Decepção total com o livro, nem pareciam o cas...</td>\n",
       "      <td>2</td>\n",
       "    </tr>\n",
       "    <tr>\n",
       "      <th>4</th>\n",
       "      <td>Muito difícil a leitura deste livro, acredito ...</td>\n",
       "      <td>2</td>\n",
       "    </tr>\n",
       "  </tbody>\n",
       "</table>\n",
       "</div>"
      ],
      "text/plain": [
       "                                            Mensagem  TARGET\n",
       "0  A história em si é boa, mas é bem cansativa. T...       2\n",
       "1  O livro fala de um contexto bastante interessa...       2\n",
       "2  O livro é excelente no primeiro terço, porém, ...       2\n",
       "3  Decepção total com o livro, nem pareciam o cas...       2\n",
       "4  Muito difícil a leitura deste livro, acredito ...       2"
      ]
     },
     "execution_count": 50,
     "metadata": {},
     "output_type": "execute_result"
    }
   ],
   "source": [
    "test = pd.read_excel('dados_teste1.xlsx')\n",
    "test.head(5)"
   ]
  },
  {
   "cell_type": "markdown",
   "metadata": {},
   "source": [
    "___\n",
    "## Classificador automático\n"
   ]
  },
  {
   "cell_type": "markdown",
   "metadata": {},
   "source": [
    "Nosso modelo estuda uma base de dados que contém críticas a livros presentes na plataforma da Amazon. Sendo assim, nossa classificação tem como base 4 grupos: \n",
    "* Grupo 1: Críticas voltadas para a plataforma *Amazon* e os serviços que ela oferece.\n",
    "* Grupo 2: Comentários que envolvem o *Autor* do livro.\n",
    "* Grupo 3: Comentários que envolvem a *Editora* do livro.\n",
    "* Grupo 4: *Outros*."
   ]
  },
  {
   "cell_type": "markdown",
   "metadata": {},
   "source": [
    "___\n",
    "### Montando um Classificador Naive-Bayes\n",
    "\n",
    "Considerando apenas as mensagens da planilha Treinamento, ensine  seu classificador."
   ]
  },
  {
   "cell_type": "code",
   "execution_count": 51,
   "metadata": {},
   "outputs": [
    {
     "data": {
      "text/html": [
       "<div>\n",
       "<style scoped>\n",
       "    .dataframe tbody tr th:only-of-type {\n",
       "        vertical-align: middle;\n",
       "    }\n",
       "\n",
       "    .dataframe tbody tr th {\n",
       "        vertical-align: top;\n",
       "    }\n",
       "\n",
       "    .dataframe thead th {\n",
       "        text-align: right;\n",
       "    }\n",
       "</style>\n",
       "<table border=\"1\" class=\"dataframe\">\n",
       "  <thead>\n",
       "    <tr style=\"text-align: right;\">\n",
       "      <th></th>\n",
       "      <th>Mensagem</th>\n",
       "      <th>TARGET</th>\n",
       "    </tr>\n",
       "  </thead>\n",
       "  <tbody>\n",
       "    <tr>\n",
       "      <th>0</th>\n",
       "      <td>\"Terror\" muito enrolado e cheio de detalhes de...</td>\n",
       "      <td>2</td>\n",
       "    </tr>\n",
       "    <tr>\n",
       "      <th>1</th>\n",
       "      <td>+</td>\n",
       "      <td>4</td>\n",
       "    </tr>\n",
       "    <tr>\n",
       "      <th>2</th>\n",
       "      <td>Caixa-Harry-Potter-Edição-Premium-Exclusiva-Am...</td>\n",
       "      <td>3</td>\n",
       "    </tr>\n",
       "  </tbody>\n",
       "</table>\n",
       "</div>"
      ],
      "text/plain": [
       "                                            Mensagem  TARGET\n",
       "0  \"Terror\" muito enrolado e cheio de detalhes de...       2\n",
       "1                                                  +       4\n",
       "2  Caixa-Harry-Potter-Edição-Premium-Exclusiva-Am...       3"
      ]
     },
     "execution_count": 51,
     "metadata": {},
     "output_type": "execute_result"
    }
   ],
   "source": [
    "train.head(3)"
   ]
  },
  {
   "cell_type": "code",
   "execution_count": 52,
   "metadata": {},
   "outputs": [
    {
     "data": {
      "text/plain": [
       "1    115\n",
       "2    271\n",
       "3     79\n",
       "4     35\n",
       "Name: TARGET, dtype: int64"
      ]
     },
     "execution_count": 52,
     "metadata": {},
     "output_type": "execute_result"
    }
   ],
   "source": [
    "train.TARGET.value_counts().sort_index()"
   ]
  },
  {
   "cell_type": "code",
   "execution_count": 53,
   "metadata": {},
   "outputs": [
    {
     "data": {
      "text/plain": [
       "1     62\n",
       "2    131\n",
       "3     23\n",
       "4     34\n",
       "Name: TARGET, dtype: int64"
      ]
     },
     "execution_count": 53,
     "metadata": {},
     "output_type": "execute_result"
    }
   ],
   "source": [
    "test.TARGET.value_counts().sort_index()"
   ]
  },
  {
   "cell_type": "code",
   "execution_count": 54,
   "metadata": {},
   "outputs": [],
   "source": [
    "def cleanup(text):\n",
    "    \n",
    "    #Remove as pontuações\n",
    "    pontuacao = '[´\"!-.:?;$'']' \n",
    "    pattern = re.compile(pontuacao)\n",
    "    texto_limpo = re.sub(pattern, '', text)\n",
    "    \n",
    "    #Remove acentos\n",
    "    texto_limpo = unidecode.unidecode(texto_limpo)\n",
    "    #Deixa todas as letras minúsculas\n",
    "    texto_limpo = texto_limpo.lower()\n",
    "    \n",
    "    return texto_limpo        "
   ]
  },
  {
   "cell_type": "code",
   "execution_count": 55,
   "metadata": {},
   "outputs": [
    {
     "data": {
      "text/plain": [
       "'bribaaa aaaa naaaaaaa'"
      ]
     },
     "execution_count": 55,
     "metadata": {},
     "output_type": "execute_result"
    }
   ],
   "source": [
    "cleanup('bribaaa AAAA NÁAAAÁAA....')"
   ]
  },
  {
   "cell_type": "code",
   "execution_count": 56,
   "metadata": {},
   "outputs": [],
   "source": [
    "#Divide o texto em uma lista de palavras\n",
    "def tokenize(texto):\n",
    "    lista_texto = texto.split()\n",
    "    return lista_texto"
   ]
  },
  {
   "cell_type": "code",
   "execution_count": 57,
   "metadata": {},
   "outputs": [],
   "source": [
    "def stop_words(lista_texto):\n",
    "    \n",
    "    nltk.download('stopwords')\n",
    "    stop_words = set(stopwords.words('portuguese'))\n",
    "    new_list = list()\n",
    "    for palavra in lista_texto:\n",
    "        if palavra not in stop_words:\n",
    "            new_list.append(palavra)\n",
    "\n",
    "    return new_list"
   ]
  },
  {
   "cell_type": "code",
   "execution_count": 58,
   "metadata": {},
   "outputs": [],
   "source": [
    "def stemming(lista_texto):\n",
    "    stemmer = SnowballStemmer('portuguese')\n",
    "    new_list = list()\n",
    "    for palavra in lista_texto:\n",
    "        new_list.append(stemmer.stem(palavra))\n",
    "    \n",
    "    return new_list"
   ]
  },
  {
   "cell_type": "code",
   "execution_count": 59,
   "metadata": {},
   "outputs": [],
   "source": [
    "def vira_texto(s):\n",
    "    texto = s.to_string(index=False)\n",
    "    return texto"
   ]
  },
  {
   "cell_type": "code",
   "execution_count": 67,
   "metadata": {},
   "outputs": [],
   "source": [
    "def roda_tudo(texto):\n",
    "    texto1 = vira_texto(texto)\n",
    "    texto2 = cleanup(texto1)\n",
    "    texto3 = tokenize(texto2)\n",
    "    texto4 = stop_words(texto3)\n",
    "    texto5 = stemming(texto4)\n",
    "    series_texto = pd.Series(texto5).to_frame()\n",
    "    return series_texto"
   ]
  },
  {
   "cell_type": "markdown",
   "metadata": {},
   "source": [
    "### Classificando os grupos:"
   ]
  },
  {
   "cell_type": "code",
   "execution_count": 68,
   "metadata": {
    "scrolled": false
   },
   "outputs": [],
   "source": [
    "Grupo1 = train.loc[train.TARGET == 1, :]\n",
    "\n",
    "Grupo2 = train.loc[train.TARGET == 2, :]\n",
    "\n",
    "Grupo3 = train.loc[train.TARGET == 3, :]\n",
    "\n",
    "Grupo4 = train.loc[train.TARGET == 4, :]"
   ]
  },
  {
   "cell_type": "code",
   "execution_count": 74,
   "metadata": {},
   "outputs": [
    {
     "data": {
      "text/plain": [
       "'                                                                                                                                                                                                                                                                                                                                                                                                                                                                                                                                                                                                                                                                                                                                                                                                                                                Mensagem  TARGET\\n                                                                                                                                                                                                                                                                                                                                                                                                                                                                                                                                                                                                                                                                                                                                                     A caixa do box veio rasgada e amaçada; página do livro cálice de fogo, uma folha veio amaçada ... .       1\\n                                                                                                                                                                                                                                                                                                                                                                                                                                                                                                                                                                                                                                                                                                                 A caixa veio estragada, queria deixar ela a mostra como produto decorativo, agora não poderei mais! Muito obrigada pelo pessimo produto       1\\n                                                                                                                                                                                                                                                                                                                                                                                                                                                                                                                                                                                                                                                                                                                                                                                                         A caixa veio rasgada e os livros parecem usados       1\\n                                                                                                                                                                                                                                                                                                                                                                                                                                                                                                                                                                                                                                                                                                                                    A caixa veio rasgada. como fazia mais de sete dias que havia comprado e não havia aberto fiquei no prejuízo. Triste.       1\\n                                                                                                                                                                                                                                                                                                                                                                                                                                                                                                           A coleção é maravilhosa, Sir Arthur Conan Doyle um mestre, mas o produto em si deixa a desejar, a caixa onde vem o produto se rasga ou descola fácil, pedi a substituição do produto é a Amazon disse que demoraria 1 mês para enviar o danificado e só aí iria mandar um novo, ridículo, como se eu tivesse culpa do envio descuidado deles.       1\\n                                                                                                                                                                                                                                                                                                                                                                                                                                                                                                                                                                                                                                                                                               A formatação desse ebook atrapalha muito a leitura e não vale a pena ter essa versão do Kindle. Comprei agora um Kindle e esse ebook e estou arrependido.       1\\n                                                                                                                                                                                                                                                                                                                                                                                                                                                                                                                                                                                                                                                                                                                    a formatação no Kindle é ridícula, problema antigo que não foi resolvido. Até quando Amazon? Seus clientes esperam um produto melhor       1\\n                                                                                                                                                                                                                                                                                                                                                                                                                                                                                                                                                                         A história dispensa comentários, é um dos maiores clássicos da literatura contemporânea, encantando a jovens e adultos, mas essa versão para o Kindle é uma vergonha! Possui erros de tradução e até de divisão de \"pal-avras\", aliás, centenas deles. Lamentável, cara Amazon.       1\\n                                                                                                                                                                                                                                                                                                                                                                                                                                                                                                                                                                                                                                                                                                                    A leitura é muito prejudicada no Kindle. O texto não se alinha à página, ficando apenas na metade da tela. Não dá para ler, péssimo!       1\\n                                                                                                                                                                                                                                                                                                                                                                                                                                                                                                     A obra de Arthur Conan Doyale é simplesmente excepcional, está edição esta impecável. Recebi a encomenda antes do prazo previsto porém a caixa Box onde os livros vem está com a lateral totalmente amaçada um descuido que poderia ter sido evitado com uma melhor embalagem. Sempre compro livros no Amazon, porém desta vez fiquei decepcionada.       1\\n                                                                                                                                                                                                                                                                                                                                                                                                                                                                                                                         A obra é excelente. O que me chateou foi o box ter vindo amassado e o livro Paraíso também. As gravuras junto com os textos também não me agradou ficando elas muito pequenas. O livreto a parte não é lá grandes coisas mas ajuda a melhorar o box.  Um box com esse tipo de literatura poderiam ter um pouco mais de cuidado.       1\\n                                                                                                                                                                                                                                                                                                                                                                                                                                                                                                                                                                                                                                                                   Acabo de ver a trilogia impressa por 54,90. Amazon está sendo ridícula com esse preço. Pensava seriamente em comprar a edição Kindle, mas vou ficar com os que tenho mesmo. Inviável.       1\\n                                                                                                                                                                                                                                                                                                                                                                                                                                                                                                                                                                                                                                                                              Ainda aguardando baixar o preço. Absolutamente abusivo. Não só a amazon como outras livrarias aumentaram o preço deste livro ultimamente. Ainda no aguardo do preço justo.       1\\n                                                                                                                                                                                                                                                                                                                                                                                                                                                                                                                                                                                                                                                                                                                 Atendimento péssimo pois o pedido foi cancelado e ninguém entrou em contato comigo para o reembolso do valor. Falta de responsabilidade       1\\n                                                                                                                                       Aversão para ler no Kindle está mais cara? Eu investi nesse aparelho, achando que os livros digitais sairiam mais em conta. Por isso que o brasileiro lê muito pouco. Quando consegue usar parte do dinheiro que ganha, no intuito de adquirir um pouco mais de conhecimento, acaba tendo esse tipo de decepção. Mas respondam-me: o que justifica esse preço? Tá saindo mais caro que o papel, os pixels na tela? ATUALIZAÇÃO Ontem, dia 26 de setembro, o preço desse livro estava quase R$ 37,00. Hoje, dia 27, depois do meu comentário acima, está R$ 34,7, o mesmo preço da versão impressa. Continua injustificado esse valor. Espero por uma resposta, porque isso é sério e cabe uma denuncia. Obrigado.       1\\n                                                                                                                                                                                                                                                                                                                                                                                                                                                                                                                          Baixei a amostra e não consigo comprar a versão completa porque está indisponível. Entrei em contato com editora e fui informada que o problema está na página da loja amazon e que seria normalizado. Até o presente momento não houve mudança, já tem dois meses que estou aguardando! E aí amazon, quando será normalizado?       1\\n                                                                                                                                                                                                                                                                                                                                                                                                                                                                                                                                                                                             Bom quanto a Qualidade dos livros estão em perfeito estado, porém a caixa dos 5 livros veio danificada, com um rasgo como se alguém a tivesse tentado abrir. Como veio dentro de uma caixa de papelão a recepcionista não tinha como observar este defeito.       1\\n                                                                                                                                                                                                                                                                                                                                                                                                                                                                                                                                                                                                                                                                                                          Cansativo. O kindle não facilita as idas e vindas no dicionário Nadsat. O texto se perde e você tem que ficar procurando onde parou a leitura.       1\\n                                                                                                                                                                                                                                                                                                                                                                                                                                                                                                                                                                                                                                                                                  Chegou com atraso e um amassado no box, fora uma falha de impressão na capa da camêra secreta. Esperava mais cuidado no transporte e uma melhor qualidade do material.       1\\n                                                                                                                                                                                                                                                                                                                                                                                                                                                                                                                                                                                                                                                                                                                                                                                                                            Chegou com o canto amassado.       1\\n                                                                                                                                                                                                                                                                                                                                                                                                                                                                                                                                                                                                                                                                                                         CLARO QUE AS ESTRELAS NÃO SÃO PAR A OBRA, MAS PARA A AMAZON NO QUESITO PROTEÇÃO DO PRODUTO, O LIVRO VEIO COM UM LADO DA CAPA AMASSADO. DECEPÇÃO       1\\n                                                                                                                                                                                                                                                                                                                                                                                                                                                                                                                                                                                                                                                                                                                                      Como pode esse livro está esse preço para o kindle? Isso é um absurdo, além de ser um pedido para não comprarmos .       1\\n                                                                                                                                                                                                                                                                                                                                                                                                                                                                                                                                                                                                                                                                                                                 Comprei dois livros e os dois vieram super amassados, um na parte de baixo, e  outro na parte de cima, não só a capa, as folhas também.       1\\n                                                                                                                                                                                                                                                                                                                                                                                                                                                                                                                                                                                                                                                                                                                  Comprei esse livro (todo seu ) paguei a fatura e até hoje o livro não chegou😥quero meu livrooooo estou no aguarde a mais de sete meses       1\\n                                                                                                                                                                                                                                                                                                                                                                                                                                                                                                                                                                                                                                                                                                            Comprei meus tão esperados livros e meu Box veio rasgado. Essa compra foi realizada em NOVEMBRO e até hoje não foi feita a troca do produto.       1\\nComprei os boxes pela primeira vez e o produto chegou em minhas mãos numa caixa bem danificada e ambos boxes (comprei 2) estavam machucados. Fiquei indignado como todo amante de livros. Entrei em contato com Amazon e recebi um excelente atendimento, solicitei troca, mandei os produtos de volta e recebi novos boxes ontem (05/09). A caixa veio em ótimo estado, porém um dos boxes veio com um grande \"amassão\" (ver fotos) e até com livro danificado. Visto que dessa vez a caixa veio quase em perfeitas condições, a conclusão que cheguei é que o produto já saiu danificado das lojas Amazon. Gosto muito da empresa, prestam um serviço incrível de atendimento ao cliente, mas dessa vez vacilaram feio. Não irei mandar o produto novamente porque há a possibilidade de me enviarem outro pior, o que pode até ter sido o caso desse.       1\\n                                                                                                                                                                                                                                                                                                                                                                   Comprei um box do Harry Potter era para ser entregue ontem , pois recebi um e-mail dizendo que nao foi possivel entregar por endereço nao localizado e era para eu entrar em contato com a empresa ... Como eu irei entrar em contato com a amazon se nem telefone me passaram ? e o e-mail que eu respondo nao dar certo ! Vcs poderiam ligar para nós quando tiverem alguma duvida , para que pedem telefone entao ? aguardo resposta de vcs meu e-mail é carolbran31@gmail.com ...       1\\n                                                                                                                                                Comprei um Kindle e fiz a assinatura do Kindle Unlimited  justamente para ler a saga. Quando acabei de ler Cálice de fogo, estava muito empolgado para começar o quinto livro. Porém, não está disponível. Pelos comentários que há nas avaliações, já faz um bom tempo que não há como ler a Ordem da Fênix. Não vou esperar a boa vontade da Amazon de disponibilizar o título. Vou comprar a versão impressa em alguma livraria para não perder o fio da meada. Obviamente não comprarei na Amazon, pois me parece bem suspeito esse suposto erro na edição virtual. Me fez ter a impressão de que para além de pagar o Unlimited, se eu quiser continuar lendo terei que adquirir a versão impressa.       1\\n                                                                                                                                                                                                                                                                                                                                                                                                                                                                                                                                                                                                                                 Conforme outros compradores abaixo, optei por esse livro na promoção \"Amamossp\". Por essa promoção esse livro sairia de graça. Qual não é a surpresa que estão me cobrando equivocadamente o livro digital por R$ 21,00       1\\n                                                                                                                                                                                                                                                                                                                                                                                                                                                                                                                                                                                                                                                                                                      Eles não gastam com papel, como pode um ebook custar tanto, se tivesse mais barato todos iriam comprar. É um livro incrivel, mas não vale o preço!       1\\n                                                                                                                                                                                                                                                                                                                                                                                                                                                                                                                                                                                                             Entrei num endereço sobre o ganho de um livro em Kindle no dia 30/3 escolho o livro e imediatamente ao fazer meu login o valor eh debitado do meu cartão! Um absurdo! Não queria comprar o livro! Solicito uma devolução imediata do valor!       1\\n                                                                                                                                                                                                                                                                                                                                                                                                                                                                                                                                                                                                             Entrei num endereço sobre o ganho de um livro em Kindle no dia 30/3 escolho o livro e imediatamente ao fazer meu login o valor eh debitado do meu cartão! Um absurdo! Não queria comprar o livro! Solicito uma devolução imediata do valor!       1\\n                                                                                                                                                                                                                                                                                                                                                                                                                                                                   Esbarrei e comprei livro errado. Não queria comprar esse livro. Sem querer esbarrei e acabou comprando, pois não há confirmação da compra. Tudo em apenas um clique. Nem cheguei a abrir o link para ler o livro. Preferiria desconto livros de economia (didáticos), pois uso com frequência devido à profissão de professor que estou começando; mas a inciativa foi boa da Amazon.       1\\n                                                                                                                                                                                                                                                                                                                                                                                                                                                                                                                                                                                                                                                 Espero que ninguém compre. Pagar o mesmo preço de um livro em papel por um livro virtual já é inaceitável, quem dirá mais caro. Estou decepcionado e muito desmotivado para adquirir o aparelho kindle.       1\\n                                                                                                                                                                                                                                                                                                                                                                                                                                                                                                                                                                                                                                                           Estava relendo a saga mas não pude terminar pois o quinto livro (A ordem da fênix) estava indisponível, os anteriores e o ultimo estao disponíveis. Como isso aconteceu com um livro virtual?       1\\n                                                                                                                                                                                                                                                                                                                                                                                                                                                                                                                                                                                                                    Este livro foi doado em uma promoção da Amazon brasileira que doava um livro se respondesse a um questionário. A minha surpresa é que cobraram e bem caro pelo serviço. Nunca mais compro nada na Amazon brasileira. Não é confiável       1\\n                                                                                                                                                                                                                                                                                                                                       Estou abismada que existem já avaliações negativas a mais de um ano em relação ao preço deste ebook e mais abismada ainda dele não ter baixado o preço. Adquiri recentemente o meu kindle e estou muito feliz com ele e fiquei entusiasmada de adquirir O Senhor dos Anéis no formato ebook, mas quando me deparei com este preço desisti na hora. Apenas queria saber que lógica há em vender este livro no formato digital neste preço estratosférico? Bom, será que alguém esta pagando por isto? Francamente.       1\\n                                                                                                                                                                                                                                                                                                                                                                                                                                                                                                                                                                                                                        Eu adoraria comprar o livro e tê-lo em meu Kindle, mas jamais comprarei a esse preço. Prefiro até pagar um pouco mais na edição impressa que pagar esse absurdo no e-book, que deveria ter preços bem mais acessíveis. Uma pena.       1\\n                                                                                                                                                                                                                                                                                                                                                                                                                                                           Eu comprei o livro para dar de presente, e escolhi  site da amazon.com pois apresenta o diferencial em se poder mandar o presente para um endereço e a nota fiscal para outro endereço, no entanto mandaram os dois para o endereço do presente, logo a pessoa ficou sabendo do valor, formas de pagamento, dentre outras coisas. Peço para que analisem isso, para que não ocorra novamente.       1\\n                                                                                                                                                                                                                                                                                                                                                                                                                                                                                                                                                                                                                             Eu estava querendo reler esse livro, mas ao me deparar com o preço... É brincadeira Amazon???? Mais de R$ 100,00 num e-book???? A obra vale mil estrelas, mas eu dou uma estrela para a Amazon em virtude do preço abusivo.       1\\n                                                                                                                                                                                                                            Eu nao ia comprar essa edição pelo fato de a maioria dos comentarios serem negativos, mas la fui eu me aventurar e comprei, chegou agora o box aqui em minha casa, recém chegou, com página rasgadas!!! o livro em sí veio todo sujo e arranhado principalmente as lombadas mas isso tudo bem eu ia ficar, eai dois dos livros com PAGINAS RASGADAS!!!! QUE ISSO AMAZON VC TA FAZENDO UM JOGO COMIGO?? o livro 1 e o 4 estao com as últimas páginas descoladas e rasgadas isso é um absurdo, ja pedi meu reembolso,e aconselho a vcs que estao em duvidas de nao comprarem, olhem as fotos e tirem suas próprias conclusões!       1\\n              Fiquei satisfeita com a velocidade da entrega e o valor do frete, porém eu comprei esse produto como presente de aniversário, paguei pelo cartão de presente e embrulho e ele vei embalado de maneira normal. A Caixa do Box chegou danificada e rasgada nas laterais, assim como o primeiro volume estava com uma orelha gigante na contracapa, como se houvesse sido dobrada de maneira proposital, havia cola na lombada do volume 3 e o volume 5 estava com as laterais das capas amaçadas. Ou seja, os produtos chegaram seriamente danificados. Estou muito desapontada com isso, com a falta de respeito com o cliente, se você paga por um produto e serviço deseja que ele chega em excelentes condições a sua mão. Eu iria fazer a devolução mas a pessoa a quem eu presenteei muito tranquilamente aceito o produto danificado.       1\\n                                                                                                                                                                                                                                                                                                                                                                                                                                                                                                      Fiz a compra e a encomenda chegou bem rápido, entretanto, ao abrir o pacote, uma surpresa. Veio apenas 1 livro e a compra foi de 2 exemplares. Inclusive a nota fiscal diz que são duas unidades e o valor cobrado é por dois livros. Costumo comprar da Amazon e sempre fui muito bem atendida. Espero que o mau atendido se resolva rapidamente.       1\\n                                                                                                                                                                                                                                                                                                                                                                                                                                                                                                                                                                         Fiz de tudo para configurar o kindle e concluí que o problema é do ibook. Não importa o tamanho da letra, a separação das letras no final das linhas fica completamente errada, tipo indepe-ndente. Isso não acontece com os outros livros que comprei. É muito ruim ler assim.       1\\n                                                                                                                                                                                                                                                                                                                                                                                                                                                                                                                                                                                                                                                                                             Gostei mt, porem fiquei desapontado pq o box veio rasgado um pouco na parte se baixo e amassado q chegou ate amassar livro, sem tirar na demora pra entrega       1\\n                                                                                                                                                                                                                                                                                                                                                                                                                                                                                                                                                                                                                                                                                                                     Impossível ler, já pedi várias vezes, não sei mais o que fazer para receber o livro. Lamentável, lamentável, lamentável, lamentável       1\\n                                                                                                                                                                                                                                                                                                                                                                                                                                                                                                                                                                                                                                                                                                  Incrível como um e-book que custa US$9,99 na amazon internacional, venha custando R$90,00+. Não entendo como conseguem vender com preços tão abusivos.       1\\n                                                                                                                                                                                                                                                                                                                                                                                                                                                                                                                         Infelizmente o livreiro observou a entrega do endereço anterior qe foi entregue pelo correio a uma pessoa que não foi identificada. Assim não recebi o livro e não sei onde foi parar. Acho um descaso o que aconteceu. Infelizmente minha irmã não recebeu o livro desde o início de maio! Espero que amazon possa fazer algo!       1\\n                                                                                                                                                                                                                                                                                                                                                                                                                                                                                                                                                                    infelizmente veio com a caixa toda detonada, o box veio amassado e com uma das laterais rasgada quase saindo, os livros vieram com um pouco de cola na parte superior e ao puxar rasgaram o box e para piorar o quinto livro veio com umas oito páginas em branco. Pior experiencia.       1\\n                                                                                                                                                                                                                                                                                                                                                                                                                                                                                                                                                                                                                                                                     Jorge Candeiras é o tradutor da versão portuguesa do livro e não da versão brasileira, mas a Amazon vender no Brasil um texto com português de Portugal e não avisar é desrespeito.       1\\n                                                                                                                                                                                                                                                                                                                                                                                                                                                                                Livro bastante repetitivo, onde o autor se promove o tempo todo. Não acrescenta muito, acredito que é possível aprender o conteúdo do livro através do site do autor, em menos de 1 hora, evitando o desperdício de tempo na leitura do livro. Não vale o preço.Não recebir este kit dos livros dos 50 tons de cinza por favor queria saber o que ouve queria um retorno       1\\n                                                                                                                                                                                                                                                                                                                                                                                                                                                                                                                                                                                                                                                                                                                                             meu box chegou com alguma bolhas nas capas de alguns livros, e a orelha de um dos livros, está bem surrada.       1\\n                                                                                                                                                                                                                                                                                                                                                                                                                                                                                                                                                                                                                                                                                                                                Meu box veio com a lateral descolando, apresentando bolhas de ar por conta do descolamento. Mas fora isso o box é lindo!       1\\n                                                                                                                                                                                                                                                                                                                                                                                                                                                                                                                                                                                                                                                                                                                                                                                                                                   Meu Box veio rasgado.       1\\n                                                                                                                                                                                                                                                                                                                                                                                                                                                                                                                                                                                                                                                                                                                   Minha experiência com ebook foi frustrante... no Kindle o livro não tem cor agradável, o que desestimula a leitura. Parece uma xerox.       1\\n                                                                                                                                                                                   Minha primeira experiência de compras com a Amazon foi péssima! Comprei o item para presentear e me atentei à data limite de chegada para que conseguisse entregá-lo na data correta. Os livros não chegaram na data e o que é pior, a transportadora atualizou o status para entregue, dois dias antes da data limite muito provavelmente para não perder a pontuação! Até entendo que essa época o fluxo de entregas aumentam, mas considero falta de respeito ao consumidor \"omitir\" o real status de entrega ao produto. Infelizmente todos os comentários positivos que ouvi da Amazon, para mim não se concretizaram e eu provavelmente não voltarei a comprar!       1\\n                                                                                                                                                                                                                                                                                                                                                                                                                                                                                                                                                                                                                               Muita gente que comprou esse box reclamou que chegou com algum defeito. Achei que o meu viria em perfeito estado, mas não veio. É bem provável que estava na promoção somente os estragados. Nunca mais compro na Amazon.       1\\n                                                                                                                                                                                                                                                                                                                                                                                                                                                                                                                                                                                                                                                                                    muito decepcionado com este box, ele é Pocket, folhas finas demais, tem cola estragando as capas, mais essa foi a primeira vez que não fico satisfeito com a amazon.       1\\n                                                                                                                                                                                                                                                                                                                                                                                                                                                                                                                                                                                                                                                                                                                  Não consigo baixar livro para ler.Não consigo adicionar o livro a minha biblioteca. Já tentei de várias maneiras e não consegui fazer.       1\\n                                                                                                                                                                                                                                                                                                                                                                                                                                                                                                                                                                                                                                                                                                  Não consigo ler .... Está muito confuso este site. Não consigo contato com ninguém para ajuda. Complicado o Amazon. Espero conseguir ler ou o estorno.       1\\n                                                                                                                                                                                                                                                                                                                                                                                                                                                                                                                                                                                                                                                                                                  Não consigo ler .... Está muito confuso este site. Não consigo contato com ninguém para ajuda. Complicado o Amazon. Espero conseguir ler ou o estorno.       1\\n                                                                                                                                                                                                                                                                                                                                                                                                                                                                                                                                                                                                                                                                                                                                    Não estou conseguindo ver o conteúdo do livro. Como faço pra lê-lo?! Tenho iPhone. Gostaria de ler no celular mesmo!       1\\n                                                                                                                                                                                                                                                                                                                                                                                                                                                                                                                                                                                                                                                                            Não há justificativa para o preço absurdo deste ebook, se bobear você acha mais barato o livro impresso do que essa versão digital. Uma pena, gostaria muito de ter o ebook.       1\\n                                                                                                                                                                                                                                                                                                                                                                                                                                                                                                                                                                                                                                                                                                                                    Não recebi o livro . Não sei o motivo. Foi feito tudo como orientado. Estou com muito receio de realizar nova compra       1\\n                                                                                                                                                                                                                                                                                                                                                                                                                                                                                                                                                                                                                                                                                                                                    Não recebi o livro falta de respeito com o cliente,  e não obtive resposta do vendedor, quero meu dinheiro de volta.       1\\n                                                                                                                                                                                                                                                                                                                                                                                                                                                                                                                                                                                                                                                                                                                                     Não vale a pena comprar pelo preço proposto na promoção (99 reais). Muito caro. Compre a versão física. Bem melhor.       1\\n                                                                                                                                                                                                                                                                                                                                                                                                                                                                                                                                                                                                                                       O box chegou com amassados, riscos e com uma espécie de cola grudada na parte externa dos livros. Única vantagem que vi foi o tempo de entrega de 2 dias, porém esperava muito mais de uma empresa como a Amazon.       1\\n                                                                                                                                                                                                                                                                                                                                                                                                                                                                                                                                                                                                                                                               O box é maravilhoso e chegou antes do previsto, mas veio amassado e com várias partes rasgadas, a maior delas na parte de baixo como na imagem... Muito triste, gostaria de poder trocar!       1\\n                                                                                                                                                                                                                                                                                                                                                                                                                                                                                                                                                                                                                                                                                                                      O BOX VEIO RASGADO, Os livros estão em perfeitos estado, são lindos, porém o box esta rasgado. É uma pena que isso aconteça ainda.       1\\n                                                                                                                                                                                                                                                                                                                                                                                                                                                                                                                                                                                                          O conteúdo do livro é excepcionalmente excelente. Entretanto, ao receber o livro vi que o mesmo está com a capa querendo deteriorar, além de alguns amassos na capa. Solicitei a compra de um livro novo, mas nestas condições ficou duvidosa.       1\\n                                                                                                                                                                                                                                                                                                                                                                                                                                                                                                                                                                                                                                                                                                                             O Ebook esta bem mais caro que o livro físico. Muito sem noção, não vou comprar não. Esperar até chegar nos R$20 e olhe lá.       1\\n                                                                                                                                                                                                                                                                                                                                                                       O livro desnuda alguns mitos que envolvem a história do Brasil. Deve ser lido com cautelas, mas é divertido e instigante. Já a apresentação...É, com folga, o pior livro que já li no kindle. Capítulos atravessados, descontinuidade, uma porcaria. Se puder, fuja da versão digital e compre o livro físico. Espero que a amazon tenha um pouco de respeito com seus leitores e corrija a apresentação da versão digital, já que agora é possível atualizar as obras. Uma pena.       1\\n                                                                                                                                                                                                                                                                                                                                                                                                                                                                                                              O livro é excelente porém chegou todo amassado as minhas mãos, visto que não fiquei satisfeita devido a ser um produto com preço relativamente caro, embora tenha valido a pena. Gostaria de saber a possibilidade de substituição do mesmo. Nunca tive problemas com as entregas de vocês.  Estou bem decepcionada. Grata. Carla Bruzetti       1\\n                                                                                                                                                                                                                                                                                                                                                                                                                                                                                                                                                                                                                                                                                                                                                O livro é incrível, porém fiquei bastante chateada com a qualidade do produto, chegou em péssimo estado!       1\\n                                                                                                                                                                                                                                                                                                                                                                                                                                                                                                                                                                                                                                                                              O livro é nota 10, mas o preço que a Amazon está cobrando do ebook é nota 0. Por essa e outras razões que os livros digitais no Brasil ainda não engrenaram como poderiam.       1\\n                                                                                                                                                                                                                                                                                                                                                                                                                                                                    O livro é ultrapassado mesmo como ficção do inicio do século passado. a linguagem é prolixa e como ficção deixa muito a desejar, principalmente comparando-se com o que temos hoje. Estou também decepcionado com a Amazon porque este livro deveria ter sido um brinde (assim foi oferecido) e no entretanto, foi cobrado junto com os outros dois livros comprados. Rubens Almeida       1\\n                                                                                                                                                                                                                                                                                                                                                                                                                                                                                                                                                                                                                                                     O livro é um obra prima. Mesmo para quem não é fã de fantasia, a trama te prende do inicio ao fim. Mas o preço não ajuda, paguei R$30,00 na versão física. Espero que a Amazon reveja esses preços.       1\\n                                                                                                                                                                                    O livro em sim é excelente, com imagens muito vivas e extremamente belas, sem falar a história em si. Vale muito a pena essa aquisição. Porém, além do atraso que ultimamente vem sendo recorrente por conta da transportadora da Amazon em Teresina - Piauí, o livro não foi devidamente protegido, vindo com amassados nas bordas, gostaria que a Amazon desse mais ênfase tanto a isso quanto às transportadoras que não vêem cumprindo com os prazos e desrespeitando o consumidor, ao não enviar ninguém para fazer a entrega e ainda por cima dizer que foi feita a tentativa de entrega. Confirmo isso porque havia alguém no local da entrega o dia inteiro.       1\\n                                                                                                                                                                                                                                                                                                                                                                                                                                                                                                                                                                                                                                                                                                                 O livro foi classificado como novo no site e chegou em péssimo estado, totalmente amassado como se fosse um livro com valor de 3 reais.       1\\n                                                                                                                                                                                                                                                                             O pedido chegou atrasado 3 dias e quando recebi, a caixa veio rasgada nos dois lados. É um absurdo fazer uma compra cara para obter um produto danificado, o sentimento de frustração é grande. Apesar de terem resolvido comigo um valor de reembolso (baixíssimo) pelo dano, não repara o desagrado jamais! É uma pena que os produtos comprados não tenham o cuidado devido e nem uma fiscalização para perceber o dano antes de chegar nas mãos do cliente. Sem duvidas não recomendarei a compra online pela AMAZON para ninguém, principalmente se for coleccionador.       1\\n                                                                                                                                                                                                                                                                                                                                                                                                                                                                                                                                               O pedido veio rápido, os livros são maravilhosos, porém o box veio em péssimas condições. Parece que caiu água nele, e estufou todo o material, como mostram as imagens. As pontas estão destruídas, com certeza caiu no chão em algum momento. Estou frustrada com a minha primeira aquisição na Amazon.       1\\n                                                                                                                                                                                                                                                                                                                                                                                                                                                                                                                                                                                                                                                                                            O preço da versão digital deste livro é injustificável, pelo menos pra mim. Qual a vantagem de comprar este livro na versão digital, a um preço tão abusivo?       1\\n                                                                                                                                                                                                                                                                                                                                                                                                                                                                                                                                                                                                                                                                                                              O produto é muito bom, porém veio com rasgos e bolhas na Box. Comprei com receio por conta de algumas avaliações de compradores da Amazon.       1\\n                                  O produto veio muito bem embalado e a embalagem para presente é muito bonita e vale o valor pago! A pessoa a qual dei de presente gostou muito. Porém a Amazon peca no serviço de entrega, eles ficam colocando que o produto saiu para entrega e você fica esperando e ele não chega - isso ocorreu por 4 dias seguidos, colocavam as 8h da manhã que o produto saiu para entrega e entregariam até as 20h, após as 20h uma mensagem de desculpa era colocada, pois não efetuavam a entrega. A transportadora escolhida pela AMAZON é a pior que já me efetuou uma entrega nesse quesito, pois ficar 4 dias deixando de fazer alguma atividade ou pedindo para um familiar ficar esperando o pacote e ele não era entregue é desagradável, principalmente quando é uma pessoa que está fazendo um favor no seu lugar!       1\\n                                                                                                                                                                                                                                                                                                                                                                                                                                                                                                                                                                                                                                                                                                                         O valor do ebook está vergonhoso, quero muito mas assim não tem como comprar, enquanto não baixar consideravelmente, não compro       1\\n                                                                                                                                                                                                                                                                                                                                                                                                                                                                                                                                                                                                                                                                 Oh Amazon! Por favor atualiza essa edição! Está sem condição de ler, faltam frases dos personagens, diálogos, tem pedaço do livro que não da nem pra entender o que está acontecendo!!!       1\\n                                                                                                                                                                                                                                                                                                                                                                                                                                                                                                                                                                                                                                                                                                                                                Paguei para embrulho de presente, e veio sem embrulho, é uma micharia mas vocês não cumpriram com acordo       1\\n                                                                                                                                                                                                                                                                                                                                                                                                                                                                                                                                                                                    Pedi o livro baseado na promoção q era de graça. Não autorizo está compra. Ajustem o site de vcs para evitar tais desconfortos. Dória tem razão... e vcs não cumpriram com a palavra. Não aceito pagar R$21,00 por este livro, pois estava informando q era gratuito       1\\n                                                                                                                                                                                                                                                                                                                                                                                                                                                                                                                                                                                                                                                                                                                                         Pelo amor de Deus!!!! que preço é este......só mesmo no Brasil; e é porque livro ainda é imune de impostos.....       1\\n                                                                                                                                                                                                                                                                                                                                                                                                                                                                                                                                                                                                                                                                                                           pelo menos desde 2013 reclamam do abusivo preço. nada mudou. jaa ten isenção para e-book como livros impressos e tb, naada muda. que patético       1\\n                                                                                                                                                                                                                                                                                                                                                                                                                                                                                                                                                                                                                                                                                                      Pessoal, vocês poderiam ajustar a fonte para justificada? Após a alteração aumento as estrelas! (Nada contra a série, acho a excelente a história)       1\\n                                                                                                                                                                                                                                                                                                                                                                                                                                                                                                                                                                                                                                                                                                       Por ser produto não do  meu interesse e recebi como bônus na compra de Kindle. Poderia ter oportunidade de escolher o livro da minha preferência.       1\\n                                                                                                                                                                                                                                                                                                                                                                                                                                                                                                                                                                                                                                                                                                                                             Porque não estão vendendo a versão em e-book kindle do volume 1 e do restante da série? Qual a dificuldade?       1\\n                                                                                                                                                                                                                                                                                                                                                                                                                                                                                                                                                                                                                                                                                                                    Poxa comprei o livro em janeiro agora eles nao estão desponibilizando pra mim. Agora vou ter que comprar de novo sacanagem né gente😣       1\\n                                                                                                                                                                                                                                                                                                                                                                                                                                                                                                                                                                                                                                                         Preciso saber se essa compra é do livro físico!!! Pq não quero digital!!! Acho que não entendi a propaganda!!:(( Desculpa msm!!! Fui no impulso!!! Se não for físico quero cancelar a compra!!!       1\\n                                                                                                                                                                                                                                                                                                                                                                                                                                                                                                                                                                                                                                                                                      Preço extremamente abusivo. Queria tê-lo original. Porém, leio a versão gratuita conseguida facilmente em sites que disponibilizam de graça livros para e-readers.       1\\n                                                                                                                                                                                                                                                                                                                                                                                                                                                                                                                  Prezados, Acredito que houve um erro, pois descontaram o valor deste livro no meu cartão de crédito. Quando escolhi este livro foi no dia 30 de março no momento de uma campanha da empresa de doação de Ebooks e este livro era uns dos livros disponíveis gratuitamente. Espero uma solução rápida, pois não gostaria de ser lesado.       1\\n                                                                                                                                                                                                                                                                                                                                                                                                                                                                                                                                                                                                                                                                                                                                                                                                  Primeiramente meu pedido nem veio,Mas me reembolsaram.       1\\n                                                                                                                                                                                                                                                                                                                                                                                                                                                                                                                                                                                                                                                                                                                                                                                                  Primeiramente meu pedido nem veio,Mas me reembolsaram.       1\\n                                                                                                                                                                                                                                                                                                                                                                                                                                                                                                                                                                                                                                                                                                                                                                                      Produto AINDA não entregue dentro do prazo, total descontentamento       1\\n                                                                                                                                                                                                                                                                                                                                                                                                                                                                                                                                                                                                                                                                            Produto chegou Danificado com rasgos e amaçados na caixa q envolve a coleção e os livros estão com as capas riscadas . bem decepcionado pois era presente pra minha namorada       1\\n                                                                                                                                                                                                                                                                                                                                                                                                                                                                                                                                                                                                                                                             Que sistema horrível de vocês. EU NÃO COMPREI NADA. EU SÓ CLIQUE PRA VER MELHOR. EU queria esses livros FÍSICOS E. Não ebook. Eu só queria ver. Cancele essa comprar. Obrigada Stela Maris.       1\\n                                                                                                                                                                                                                                                                                                                                                                                                                                                                                                         Realmente triste um sucesso desses ser vendido numa versão digital, que teve custo mínimo de produção e tem custo 0 de venda, num preço 2x maior que o produto físico, que teve custos de produção e distribuição infinitamente maiores do que o digital... Simplesmente lamentável... Amazon perdeu todo o respeito que eu tinha pela empresa.       1\\n                                                                                                                                                                                                                                                                                                                                                                                                                                                                                                                                                                                                      recebi o livro ontem, ok ! entrega rápida. porém não recebi desconto na promoção marco10. só comprei por causa dessa promoção. o q faço agora ? r$12,90 do livro, mais r$7,90 de frete. paguei r$20,80. Gostaria de saber pq não ganhei desconto ?       1\\n                                                                                                                                                                                                                                                                                                                                                                                                                                                                                                                                                                                                           Revoltada por não conseguir devolver este box. Chegou com 5 dias de atraso e quando solicitei o cancelamento (1 dia depois do atraso) foi um verdadeiro descaso. Não me retornam. Não consigo pegar o meu reembolso e nem devolver o produto.       1\\n                                                                                                                                                                                                                                                    SE ARREPENDIMENTO MATASSE ESTAVA MORTO, (AMO LER E APRENDER, PROCURO COMPRAR E LER PELO MENOS UM LIVRO POR MÊS), GASTEI DINHEIRO ATOA, QUE LIVRO RUIM, PRESTA UM DESSERVIÇO PARA O INTELECTO DE UMA PESSOA, O AUTOR ESCREVE, ESCREVE, LÁ NO FINAL ELE DIZ QUE SÃO APENAS DEDUÇÕES E QUE NÃO SE PODE AFIRMAR NADA. NÃO CONSEGUIR IDENTIFICAR NENHUMA NOVIDADE EM UM LIVRO DE MAIS DE 400 PÁGINAS.  AMAZON.COM DEVOLVE MEU DINHEIRO OU ME DÁ A OPORTUNIDADE DE DEVOLVER O LIVRO OU ESCOLHER OUTRO, POR FAVOR!!!!!!! ESSE AQUI NÃO QUERO NEM COLOCAR NA MINHA ESTANTE, NÃO QUERO GUARDAR NA MINHA CASA.       1\\n                                                                                                                                                                                                                                                                                                                                                                                                                                                                                                                                    Se soubesse não teria comprado. É bom pra aprender. O cara foi editor da revista Superinteressante! A revistinha mais cientificamente sensacionalista q existe. E ainda escreveu na Veja. Vi historiadores brasileiros, respeitados, descendo a lenha nesse livro. Amazon coloca na prateleira de Ficção Científica.       1\\n                                                                                                                                                                                                                                                                                                                                                                                                                        Sempre comprei livros na edição americana da amazon. Fiquei feliz com a amazon chegando ao Brasil, mas não consigo entender como os preços dos ebooks podem estar tão altos. Voce tem que comprar um kindle e depois ainda pagar mais caro pela versão digital do livro. Como isso pode funcionar? A versão americana fez sucesso de outra forma. Espero que mudem a política aqui no Brasil para estimular o consumo de ebooks.       1\\n                                                                                                                                                                                                                                                                                                                                                                                                                                                                                                                                                        Sinceramente, também estou tentando entender como podem colocar um livro digital por um preço absurdo destes. Comprei um Kindle recentemente e adoraria ter esta obra nele, mas por um preço abusivo destes não compro nem aqui, nem na China! E só dei uma estrela porque não é possível dar 0.       1\\n                                                                                                                                                                                                                                                                                                                                                                                                                                                                                                                                                                               Solicitei meu pagamento em 4 x e quando fui ver os detales da fatura do meu cartao para o proximo pagamento veio a surpresa desagradavel lançaram o valor total da compra ao inves da 1 parcela. Foi a primeira e a uktima vez que compro no site da Amazon decepcionada.       1\\n                                                                                                                                                                                                                                                                                                                                                                                                                                                                                                                                                                                                                                                                                                                    Supostamente baixei este livro gratis apos uma promoçao de vocês, mas na verdade o download não foi realizado. Houvr algun problema?       1\\n                                                                                                                                                                                                                                                                                                                                                                                                                                                                                                                                                                                                                                                                                                          surreal este preço... depois reclamam que ebook não vende no Brasil. Ridículo! Ainda mais quando se compara com o preço dos EUA. Sem chance...       1\\n                                                                                                                                                                                                                                                                                                                                                                                                                                                                                                                                                          Tentei fazer o download desse ebook pela promoção /amamossp. Recebi a mensagem de que minha conta não era elegível para participar. No entanto, qual não foi minha surpresa ao ver que eu estava sendo cobrado por esse produto! Minha sorte foi que meu cartão de crédito já estava expirado.       1\\n                                                                                                                                                                                                                                                                                                                                                                                                                                                                                                                                                                                                                                                                                                                                                                                                                  Um dos meus livros veio todo amassado.       1\\n                                                                                                                                                                                                                                                                                                                                                                                                                                                                                                                                                                                                                                                                                                                                                                                                                                Veio amassado nas pontas       1'"
      ]
     },
     "execution_count": 74,
     "metadata": {},
     "output_type": "execute_result"
    }
   ],
   "source": [
    "vira_texto(Grupo1)"
   ]
  },
  {
   "cell_type": "code",
   "execution_count": 72,
   "metadata": {
    "scrolled": true
   },
   "outputs": [
    {
     "name": "stderr",
     "output_type": "stream",
     "text": [
      "[nltk_data] Downloading package stopwords to\n",
      "[nltk_data]     C:\\Users\\enzod\\AppData\\Roaming\\nltk_data...\n",
      "[nltk_data]   Package stopwords is already up-to-date!\n"
     ]
    },
    {
     "data": {
      "text/html": [
       "<div>\n",
       "<style scoped>\n",
       "    .dataframe tbody tr th:only-of-type {\n",
       "        vertical-align: middle;\n",
       "    }\n",
       "\n",
       "    .dataframe tbody tr th {\n",
       "        vertical-align: top;\n",
       "    }\n",
       "\n",
       "    .dataframe thead th {\n",
       "        text-align: right;\n",
       "    }\n",
       "</style>\n",
       "<table border=\"1\" class=\"dataframe\">\n",
       "  <thead>\n",
       "    <tr style=\"text-align: right;\">\n",
       "      <th></th>\n",
       "      <th>0</th>\n",
       "    </tr>\n",
       "  </thead>\n",
       "  <tbody>\n",
       "    <tr>\n",
       "      <th>0</th>\n",
       "      <td>mensag</td>\n",
       "    </tr>\n",
       "    <tr>\n",
       "      <th>1</th>\n",
       "      <td>target</td>\n",
       "    </tr>\n",
       "    <tr>\n",
       "      <th>2</th>\n",
       "      <td>caix</td>\n",
       "    </tr>\n",
       "    <tr>\n",
       "      <th>3</th>\n",
       "      <td>box</td>\n",
       "    </tr>\n",
       "    <tr>\n",
       "      <th>4</th>\n",
       "      <td>vei</td>\n",
       "    </tr>\n",
       "    <tr>\n",
       "      <th>...</th>\n",
       "      <td>...</td>\n",
       "    </tr>\n",
       "    <tr>\n",
       "      <th>2938</th>\n",
       "      <td>1</td>\n",
       "    </tr>\n",
       "    <tr>\n",
       "      <th>2939</th>\n",
       "      <td>vei</td>\n",
       "    </tr>\n",
       "    <tr>\n",
       "      <th>2940</th>\n",
       "      <td>amass</td>\n",
       "    </tr>\n",
       "    <tr>\n",
       "      <th>2941</th>\n",
       "      <td>pont</td>\n",
       "    </tr>\n",
       "    <tr>\n",
       "      <th>2942</th>\n",
       "      <td>1</td>\n",
       "    </tr>\n",
       "  </tbody>\n",
       "</table>\n",
       "<p>2943 rows × 1 columns</p>\n",
       "</div>"
      ],
      "text/plain": [
       "           0\n",
       "0     mensag\n",
       "1     target\n",
       "2       caix\n",
       "3        box\n",
       "4        vei\n",
       "...      ...\n",
       "2938       1\n",
       "2939     vei\n",
       "2940   amass\n",
       "2941    pont\n",
       "2942       1\n",
       "\n",
       "[2943 rows x 1 columns]"
      ]
     },
     "execution_count": 72,
     "metadata": {},
     "output_type": "execute_result"
    }
   ],
   "source": [
    "roda_tudo(Grupo1)"
   ]
  },
  {
   "cell_type": "code",
   "execution_count": 73,
   "metadata": {
    "scrolled": true
   },
   "outputs": [
    {
     "name": "stderr",
     "output_type": "stream",
     "text": [
      "[nltk_data] Downloading package stopwords to\n",
      "[nltk_data]     C:\\Users\\enzod\\AppData\\Roaming\\nltk_data...\n",
      "[nltk_data]   Package stopwords is already up-to-date!\n"
     ]
    },
    {
     "data": {
      "text/html": [
       "<div>\n",
       "<style scoped>\n",
       "    .dataframe tbody tr th:only-of-type {\n",
       "        vertical-align: middle;\n",
       "    }\n",
       "\n",
       "    .dataframe tbody tr th {\n",
       "        vertical-align: top;\n",
       "    }\n",
       "\n",
       "    .dataframe thead th {\n",
       "        text-align: right;\n",
       "    }\n",
       "</style>\n",
       "<table border=\"1\" class=\"dataframe\">\n",
       "  <thead>\n",
       "    <tr style=\"text-align: right;\">\n",
       "      <th></th>\n",
       "      <th>0</th>\n",
       "    </tr>\n",
       "  </thead>\n",
       "  <tbody>\n",
       "    <tr>\n",
       "      <th>0</th>\n",
       "      <td>mensag</td>\n",
       "    </tr>\n",
       "    <tr>\n",
       "      <th>1</th>\n",
       "      <td>target</td>\n",
       "    </tr>\n",
       "    <tr>\n",
       "      <th>2</th>\n",
       "      <td>terror</td>\n",
       "    </tr>\n",
       "    <tr>\n",
       "      <th>3</th>\n",
       "      <td>enrol</td>\n",
       "    </tr>\n",
       "    <tr>\n",
       "      <th>4</th>\n",
       "      <td>chei</td>\n",
       "    </tr>\n",
       "    <tr>\n",
       "      <th>...</th>\n",
       "      <td>...</td>\n",
       "    </tr>\n",
       "    <tr>\n",
       "      <th>9517</th>\n",
       "      <td>2</td>\n",
       "    </tr>\n",
       "    <tr>\n",
       "      <th>9518</th>\n",
       "      <td>vies</td>\n",
       "    </tr>\n",
       "    <tr>\n",
       "      <th>9519</th>\n",
       "      <td>ideolog</td>\n",
       "    </tr>\n",
       "    <tr>\n",
       "      <th>9520</th>\n",
       "      <td>gritant</td>\n",
       "    </tr>\n",
       "    <tr>\n",
       "      <th>9521</th>\n",
       "      <td>2</td>\n",
       "    </tr>\n",
       "  </tbody>\n",
       "</table>\n",
       "<p>9522 rows × 1 columns</p>\n",
       "</div>"
      ],
      "text/plain": [
       "            0\n",
       "0      mensag\n",
       "1      target\n",
       "2      terror\n",
       "3       enrol\n",
       "4        chei\n",
       "...       ...\n",
       "9517        2\n",
       "9518     vies\n",
       "9519  ideolog\n",
       "9520  gritant\n",
       "9521        2\n",
       "\n",
       "[9522 rows x 1 columns]"
      ]
     },
     "execution_count": 73,
     "metadata": {},
     "output_type": "execute_result"
    }
   ],
   "source": [
    "roda_tudo(Grupo2)"
   ]
  },
  {
   "cell_type": "markdown",
   "metadata": {},
   "source": [
    "___\n",
    "### Verificando a performance do Classificador\n",
    "\n",
    "Agora você deve testar o seu classificador com a base de Testes."
   ]
  },
  {
   "cell_type": "code",
   "execution_count": null,
   "metadata": {},
   "outputs": [],
   "source": []
  },
  {
   "cell_type": "code",
   "execution_count": null,
   "metadata": {},
   "outputs": [],
   "source": []
  },
  {
   "cell_type": "code",
   "execution_count": null,
   "metadata": {},
   "outputs": [],
   "source": []
  },
  {
   "cell_type": "markdown",
   "metadata": {},
   "source": [
    "___\n",
    "### Concluindo"
   ]
  },
  {
   "cell_type": "code",
   "execution_count": null,
   "metadata": {},
   "outputs": [],
   "source": []
  },
  {
   "cell_type": "code",
   "execution_count": null,
   "metadata": {},
   "outputs": [],
   "source": []
  },
  {
   "cell_type": "code",
   "execution_count": null,
   "metadata": {},
   "outputs": [],
   "source": []
  },
  {
   "cell_type": "markdown",
   "metadata": {},
   "source": [
    "___\n",
    "### Qualidade do Classificador a partir de novas separações dos tweets entre Treinamento e Teste\n",
    "\n",
    "Caso for fazer esse item do Projeto"
   ]
  },
  {
   "cell_type": "code",
   "execution_count": null,
   "metadata": {},
   "outputs": [],
   "source": []
  },
  {
   "cell_type": "code",
   "execution_count": null,
   "metadata": {},
   "outputs": [],
   "source": []
  },
  {
   "cell_type": "code",
   "execution_count": null,
   "metadata": {},
   "outputs": [],
   "source": []
  },
  {
   "cell_type": "markdown",
   "metadata": {},
   "source": [
    "___\n",
    "## Aperfeiçoamento:\n",
    "\n",
    "Trabalhos que conseguirem pelo menos conceito B vão evoluir em conceito dependendo da quantidade de itens avançados:\n",
    "\n",
    "* IMPLEMENTOU outras limpezas e transformações que não afetem a qualidade da informação contida nos tweets. Ex: stemming, lemmatization, stopwords\n",
    "* CONSIDEROU mais de duas categorias na variável Target e INCREMENTOU a quantidade de notícias, mantendo pelo menos 250 notícias por categoria (OBRIGATÓRIO PARA TRIOS, sem contar como item avançado)\n",
    "* Para Target com duas categorias: CRIOU pelo menos quatro categorias intermediárias de relevância baseadas na probabilidade: ex.: muito relevante, relevante, neutro, irrelevante, muito irrelevante\n",
    "* EXPLICOU porquê não pode usar o próprio classificador para gerar mais amostras de treinamento\n",
    "* PROPÔS diferentes cenários para Naïve Bayes fora do contexto do projeto (pelo menos dois cenários, exceto aqueles já apresentados em sala pelos professores: por exemplo, filtro de spam)\n",
    "* SUGERIU e EXPLICOU melhorias reais com indicações concretas de como implementar (indicar como fazer e indicar material de pesquisa)\n",
    "* FEZ o item Qualidade do Classificador a partir de novas separações das Notícias entre Treinamento e Teste descrito no enunciado do projeto (OBRIGATÓRIO para conceitos A ou A+)"
   ]
  },
  {
   "cell_type": "markdown",
   "metadata": {},
   "source": [
    "___\n",
    "## Referências"
   ]
  },
  {
   "cell_type": "markdown",
   "metadata": {},
   "source": [
    "[Naive Bayes and Text Classification](https://arxiv.org/pdf/1410.5329.pdf)  **Mais completo**\n",
    "\n",
    "[A practical explanation of a Naive Bayes Classifier](https://monkeylearn.com/blog/practical-explanation-naive-bayes-classifier/) **Mais simples**"
   ]
  },
  {
   "cell_type": "code",
   "execution_count": null,
   "metadata": {},
   "outputs": [],
   "source": []
  }
 ],
 "metadata": {
  "kernelspec": {
   "display_name": "Python 3 (ipykernel)",
   "language": "python",
   "name": "python3"
  },
  "language_info": {
   "codemirror_mode": {
    "name": "ipython",
    "version": 3
   },
   "file_extension": ".py",
   "mimetype": "text/x-python",
   "name": "python",
   "nbconvert_exporter": "python",
   "pygments_lexer": "ipython3",
   "version": "3.9.13"
  }
 },
 "nbformat": 4,
 "nbformat_minor": 4
}
